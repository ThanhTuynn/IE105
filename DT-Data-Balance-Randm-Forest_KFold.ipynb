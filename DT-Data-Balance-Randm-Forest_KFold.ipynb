{
 "cells": [
  {
   "cell_type": "code",
   "execution_count": 1,
   "metadata": {
    "colab": {
     "base_uri": "https://localhost:8080/"
    },
    "executionInfo": {
     "elapsed": 30999,
     "status": "ok",
     "timestamp": 1665727836956,
     "user": {
      "displayName": "Novi Yuningsih",
      "userId": "08645790852716760917"
     },
     "user_tz": -420
    },
    "id": "pqpv-u_U63Ci",
    "outputId": "8ff881bf-6453-4cff-c82e-8952c89ff203"
   },
   "outputs": [],
   "source": [
    "import numpy as np\n",
    "import pandas as pd\n",
    "from imblearn.over_sampling import RandomOverSampler\n",
    "import matplotlib.pyplot as plt\n",
    "import seaborn as sns\n"
   ]
  },
  {
   "cell_type": "markdown",
   "metadata": {
    "id": "VmopCvUjWuY-"
   },
   "source": [
    "**Import** **Dataset**"
   ]
  },
  {
   "cell_type": "code",
   "execution_count": 2,
   "metadata": {
    "executionInfo": {
     "elapsed": 1291,
     "status": "ok",
     "timestamp": 1665727877156,
     "user": {
      "displayName": "Novi Yuningsih",
      "userId": "08645790852716760917"
     },
     "user_tz": -420
    },
    "id": "4liATPBh7GxM"
   },
   "outputs": [
    {
     "data": {
      "text/html": [
       "<div>\n",
       "<style scoped>\n",
       "    .dataframe tbody tr th:only-of-type {\n",
       "        vertical-align: middle;\n",
       "    }\n",
       "\n",
       "    .dataframe tbody tr th {\n",
       "        vertical-align: top;\n",
       "    }\n",
       "\n",
       "    .dataframe thead th {\n",
       "        text-align: right;\n",
       "    }\n",
       "</style>\n",
       "<table border=\"1\" class=\"dataframe\">\n",
       "  <thead>\n",
       "    <tr style=\"text-align: right;\">\n",
       "      <th></th>\n",
       "      <th>pdfsize</th>\n",
       "      <th>metadata size</th>\n",
       "      <th>pages</th>\n",
       "      <th>xref Length</th>\n",
       "      <th>title characters</th>\n",
       "      <th>isEncrypted</th>\n",
       "      <th>embedded files</th>\n",
       "      <th>images</th>\n",
       "      <th>text</th>\n",
       "      <th>header</th>\n",
       "      <th>...</th>\n",
       "      <th>AA</th>\n",
       "      <th>OpenAction</th>\n",
       "      <th>Acroform</th>\n",
       "      <th>JBIG2Decode</th>\n",
       "      <th>RichMedia</th>\n",
       "      <th>launch</th>\n",
       "      <th>EmbeddedFile</th>\n",
       "      <th>XFA</th>\n",
       "      <th>Colors</th>\n",
       "      <th>Class</th>\n",
       "    </tr>\n",
       "  </thead>\n",
       "  <tbody>\n",
       "    <tr>\n",
       "      <th>0</th>\n",
       "      <td>8.0</td>\n",
       "      <td>180.0</td>\n",
       "      <td>1.0</td>\n",
       "      <td>11.0</td>\n",
       "      <td>0.0</td>\n",
       "      <td>0.0</td>\n",
       "      <td>0.0</td>\n",
       "      <td>0</td>\n",
       "      <td>No</td>\n",
       "      <td>\\t%PDF-1.3</td>\n",
       "      <td>...</td>\n",
       "      <td>0</td>\n",
       "      <td>1</td>\n",
       "      <td>0</td>\n",
       "      <td>0</td>\n",
       "      <td>0</td>\n",
       "      <td>0</td>\n",
       "      <td>0</td>\n",
       "      <td>0</td>\n",
       "      <td>0.0</td>\n",
       "      <td>Malicious</td>\n",
       "    </tr>\n",
       "    <tr>\n",
       "      <th>1</th>\n",
       "      <td>15.0</td>\n",
       "      <td>224.0</td>\n",
       "      <td>0.0</td>\n",
       "      <td>20.0</td>\n",
       "      <td>7.0</td>\n",
       "      <td>0.0</td>\n",
       "      <td>0.0</td>\n",
       "      <td>0</td>\n",
       "      <td>No</td>\n",
       "      <td>\\t%PDF-1.6</td>\n",
       "      <td>...</td>\n",
       "      <td>0</td>\n",
       "      <td>0</td>\n",
       "      <td>1</td>\n",
       "      <td>0</td>\n",
       "      <td>0</td>\n",
       "      <td>0</td>\n",
       "      <td>8</td>\n",
       "      <td>1</td>\n",
       "      <td>0.0</td>\n",
       "      <td>Malicious</td>\n",
       "    </tr>\n",
       "    <tr>\n",
       "      <th>2</th>\n",
       "      <td>4.0</td>\n",
       "      <td>468.0</td>\n",
       "      <td>2.0</td>\n",
       "      <td>13.0</td>\n",
       "      <td>16.0</td>\n",
       "      <td>0.0</td>\n",
       "      <td>0.0</td>\n",
       "      <td>0</td>\n",
       "      <td>Yes</td>\n",
       "      <td>\\t%PDF-1.3</td>\n",
       "      <td>...</td>\n",
       "      <td>0</td>\n",
       "      <td>1</td>\n",
       "      <td>0</td>\n",
       "      <td>0</td>\n",
       "      <td>0</td>\n",
       "      <td>0</td>\n",
       "      <td>0</td>\n",
       "      <td>0</td>\n",
       "      <td>0.0</td>\n",
       "      <td>Malicious</td>\n",
       "    </tr>\n",
       "    <tr>\n",
       "      <th>3</th>\n",
       "      <td>17.0</td>\n",
       "      <td>250.0</td>\n",
       "      <td>1.0</td>\n",
       "      <td>15.0</td>\n",
       "      <td>0.0</td>\n",
       "      <td>0.0</td>\n",
       "      <td>0.0</td>\n",
       "      <td>0</td>\n",
       "      <td>No</td>\n",
       "      <td>\\t%PDF-1.3</td>\n",
       "      <td>...</td>\n",
       "      <td>0</td>\n",
       "      <td>1</td>\n",
       "      <td>1</td>\n",
       "      <td>0</td>\n",
       "      <td>0</td>\n",
       "      <td>0</td>\n",
       "      <td>0</td>\n",
       "      <td>0</td>\n",
       "      <td>0.0</td>\n",
       "      <td>Malicious</td>\n",
       "    </tr>\n",
       "    <tr>\n",
       "      <th>4</th>\n",
       "      <td>7.0</td>\n",
       "      <td>252.0</td>\n",
       "      <td>3.0</td>\n",
       "      <td>16.0</td>\n",
       "      <td>45.0</td>\n",
       "      <td>0.0</td>\n",
       "      <td>0.0</td>\n",
       "      <td>0</td>\n",
       "      <td>Yes</td>\n",
       "      <td>\\t%PDF-1.3</td>\n",
       "      <td>...</td>\n",
       "      <td>0</td>\n",
       "      <td>1</td>\n",
       "      <td>0</td>\n",
       "      <td>0</td>\n",
       "      <td>0</td>\n",
       "      <td>0</td>\n",
       "      <td>0</td>\n",
       "      <td>0</td>\n",
       "      <td>0.0</td>\n",
       "      <td>Malicious</td>\n",
       "    </tr>\n",
       "    <tr>\n",
       "      <th>...</th>\n",
       "      <td>...</td>\n",
       "      <td>...</td>\n",
       "      <td>...</td>\n",
       "      <td>...</td>\n",
       "      <td>...</td>\n",
       "      <td>...</td>\n",
       "      <td>...</td>\n",
       "      <td>...</td>\n",
       "      <td>...</td>\n",
       "      <td>...</td>\n",
       "      <td>...</td>\n",
       "      <td>...</td>\n",
       "      <td>...</td>\n",
       "      <td>...</td>\n",
       "      <td>...</td>\n",
       "      <td>...</td>\n",
       "      <td>...</td>\n",
       "      <td>...</td>\n",
       "      <td>...</td>\n",
       "      <td>...</td>\n",
       "      <td>...</td>\n",
       "    </tr>\n",
       "    <tr>\n",
       "      <th>10021</th>\n",
       "      <td>529.0</td>\n",
       "      <td>296.0</td>\n",
       "      <td>1.0</td>\n",
       "      <td>87.0</td>\n",
       "      <td>8.0</td>\n",
       "      <td>0.0</td>\n",
       "      <td>0.0</td>\n",
       "      <td>3</td>\n",
       "      <td>No</td>\n",
       "      <td>\\t%PDF-1.3</td>\n",
       "      <td>...</td>\n",
       "      <td>0</td>\n",
       "      <td>1</td>\n",
       "      <td>0</td>\n",
       "      <td>0</td>\n",
       "      <td>0</td>\n",
       "      <td>0</td>\n",
       "      <td>0</td>\n",
       "      <td>0</td>\n",
       "      <td>0.0</td>\n",
       "      <td>Malicious</td>\n",
       "    </tr>\n",
       "    <tr>\n",
       "      <th>10022</th>\n",
       "      <td>73.0</td>\n",
       "      <td>314.0</td>\n",
       "      <td>1.0</td>\n",
       "      <td>16.0</td>\n",
       "      <td>3.0</td>\n",
       "      <td>0.0</td>\n",
       "      <td>0.0</td>\n",
       "      <td>-1</td>\n",
       "      <td>unclear</td>\n",
       "      <td>\\t%PDF-\\x07.3</td>\n",
       "      <td>...</td>\n",
       "      <td>0</td>\n",
       "      <td>1</td>\n",
       "      <td>0</td>\n",
       "      <td>0</td>\n",
       "      <td>0</td>\n",
       "      <td>0</td>\n",
       "      <td>0</td>\n",
       "      <td>0</td>\n",
       "      <td>0.0</td>\n",
       "      <td>Malicious</td>\n",
       "    </tr>\n",
       "    <tr>\n",
       "      <th>10023</th>\n",
       "      <td>4.0</td>\n",
       "      <td>377.0</td>\n",
       "      <td>2.0</td>\n",
       "      <td>13.0</td>\n",
       "      <td>11.0</td>\n",
       "      <td>0.0</td>\n",
       "      <td>0.0</td>\n",
       "      <td>0</td>\n",
       "      <td>Yes</td>\n",
       "      <td>\\t%PDF-1.3</td>\n",
       "      <td>...</td>\n",
       "      <td>0</td>\n",
       "      <td>1</td>\n",
       "      <td>0</td>\n",
       "      <td>0</td>\n",
       "      <td>0</td>\n",
       "      <td>0</td>\n",
       "      <td>0</td>\n",
       "      <td>0</td>\n",
       "      <td>0.0</td>\n",
       "      <td>Malicious</td>\n",
       "    </tr>\n",
       "    <tr>\n",
       "      <th>10024</th>\n",
       "      <td>38.0</td>\n",
       "      <td>338.0</td>\n",
       "      <td>1.0</td>\n",
       "      <td>200006.0</td>\n",
       "      <td>13.0</td>\n",
       "      <td>0.0</td>\n",
       "      <td>0.0</td>\n",
       "      <td>0</td>\n",
       "      <td>Yes</td>\n",
       "      <td>\\t%PDF-1.3</td>\n",
       "      <td>...</td>\n",
       "      <td>0</td>\n",
       "      <td>1</td>\n",
       "      <td>0</td>\n",
       "      <td>0</td>\n",
       "      <td>0</td>\n",
       "      <td>0</td>\n",
       "      <td>0</td>\n",
       "      <td>0</td>\n",
       "      <td>0.0</td>\n",
       "      <td>Malicious</td>\n",
       "    </tr>\n",
       "    <tr>\n",
       "      <th>10025</th>\n",
       "      <td>2.0</td>\n",
       "      <td>180.0</td>\n",
       "      <td>1.0</td>\n",
       "      <td>11.0</td>\n",
       "      <td>0.0</td>\n",
       "      <td>0.0</td>\n",
       "      <td>1.0</td>\n",
       "      <td>0</td>\n",
       "      <td>Yes</td>\n",
       "      <td>\\t%PDF-1.6</td>\n",
       "      <td>...</td>\n",
       "      <td>23</td>\n",
       "      <td>0</td>\n",
       "      <td>0</td>\n",
       "      <td>0</td>\n",
       "      <td>0</td>\n",
       "      <td>0</td>\n",
       "      <td>0</td>\n",
       "      <td>0</td>\n",
       "      <td>0.0</td>\n",
       "      <td>Malicious</td>\n",
       "    </tr>\n",
       "  </tbody>\n",
       "</table>\n",
       "<p>10026 rows × 32 columns</p>\n",
       "</div>"
      ],
      "text/plain": [
       "       pdfsize  metadata size  pages  xref Length  title characters  \\\n",
       "0          8.0          180.0    1.0         11.0               0.0   \n",
       "1         15.0          224.0    0.0         20.0               7.0   \n",
       "2          4.0          468.0    2.0         13.0              16.0   \n",
       "3         17.0          250.0    1.0         15.0               0.0   \n",
       "4          7.0          252.0    3.0         16.0              45.0   \n",
       "...        ...            ...    ...          ...               ...   \n",
       "10021    529.0          296.0    1.0         87.0               8.0   \n",
       "10022     73.0          314.0    1.0         16.0               3.0   \n",
       "10023      4.0          377.0    2.0         13.0              11.0   \n",
       "10024     38.0          338.0    1.0     200006.0              13.0   \n",
       "10025      2.0          180.0    1.0         11.0               0.0   \n",
       "\n",
       "       isEncrypted  embedded files images     text         header  ...  AA  \\\n",
       "0              0.0             0.0      0       No     \\t%PDF-1.3  ...   0   \n",
       "1              0.0             0.0      0       No     \\t%PDF-1.6  ...   0   \n",
       "2              0.0             0.0      0      Yes     \\t%PDF-1.3  ...   0   \n",
       "3              0.0             0.0      0       No     \\t%PDF-1.3  ...   0   \n",
       "4              0.0             0.0      0      Yes     \\t%PDF-1.3  ...   0   \n",
       "...            ...             ...    ...      ...            ...  ...  ..   \n",
       "10021          0.0             0.0      3       No     \\t%PDF-1.3  ...   0   \n",
       "10022          0.0             0.0     -1  unclear  \\t%PDF-\\x07.3  ...   0   \n",
       "10023          0.0             0.0      0      Yes     \\t%PDF-1.3  ...   0   \n",
       "10024          0.0             0.0      0      Yes     \\t%PDF-1.3  ...   0   \n",
       "10025          0.0             1.0      0      Yes     \\t%PDF-1.6  ...  23   \n",
       "\n",
       "      OpenAction  Acroform JBIG2Decode RichMedia  launch EmbeddedFile XFA  \\\n",
       "0              1         0           0         0       0            0   0   \n",
       "1              0         1           0         0       0            8   1   \n",
       "2              1         0           0         0       0            0   0   \n",
       "3              1         1           0         0       0            0   0   \n",
       "4              1         0           0         0       0            0   0   \n",
       "...          ...       ...         ...       ...     ...          ...  ..   \n",
       "10021          1         0           0         0       0            0   0   \n",
       "10022          1         0           0         0       0            0   0   \n",
       "10023          1         0           0         0       0            0   0   \n",
       "10024          1         0           0         0       0            0   0   \n",
       "10025          0         0           0         0       0            0   0   \n",
       "\n",
       "       Colors      Class  \n",
       "0         0.0  Malicious  \n",
       "1         0.0  Malicious  \n",
       "2         0.0  Malicious  \n",
       "3         0.0  Malicious  \n",
       "4         0.0  Malicious  \n",
       "...       ...        ...  \n",
       "10021     0.0  Malicious  \n",
       "10022     0.0  Malicious  \n",
       "10023     0.0  Malicious  \n",
       "10024     0.0  Malicious  \n",
       "10025     0.0  Malicious  \n",
       "\n",
       "[10026 rows x 32 columns]"
      ]
     },
     "execution_count": 2,
     "metadata": {},
     "output_type": "execute_result"
    }
   ],
   "source": [
    "dataset = pd.read_csv('PDFMalware2022.csv')\n",
    "# Xoá cột fine name, inplace = True dùng để gán trực tiếp lại cho biến data không cần sử dụng toán tử gán\n",
    "# axis=1 thể hiện thực hiện trên cột, axis=0 thực hiện trên dòng\n",
    "dataset.drop([\"Fine name\"], axis=1, inplace=True)\n",
    "\n",
    "dataset"
   ]
  },
  {
   "cell_type": "markdown",
   "metadata": {},
   "source": [
    "**Đếm thuộc tính \"Malicious\" trên \"Class\"**"
   ]
  },
  {
   "cell_type": "code",
   "execution_count": 3,
   "metadata": {},
   "outputs": [
    {
     "data": {
      "text/plain": [
       "5557"
      ]
     },
     "execution_count": 3,
     "metadata": {},
     "output_type": "execute_result"
    }
   ],
   "source": [
    "b = dataset['Class']\n",
    "malicious_count = b[b == 'Malicious'].count()\n",
    "malicious_count"
   ]
  },
  {
   "cell_type": "code",
   "execution_count": 4,
   "metadata": {},
   "outputs": [
    {
     "data": {
      "text/plain": [
       "pdfsize             float64\n",
       "metadata size       float64\n",
       "pages               float64\n",
       "xref Length         float64\n",
       "title characters    float64\n",
       "isEncrypted         float64\n",
       "embedded files      float64\n",
       "images               object\n",
       "text                 object\n",
       "header               object\n",
       "obj                  object\n",
       "endobj               object\n",
       "stream              float64\n",
       "endstream            object\n",
       "xref                 object\n",
       "trailer             float64\n",
       "startxref            object\n",
       "pageno               object\n",
       "encrypt             float64\n",
       "ObjStm              float64\n",
       "JS                   object\n",
       "Javascript           object\n",
       "AA                   object\n",
       "OpenAction           object\n",
       "Acroform             object\n",
       "JBIG2Decode          object\n",
       "RichMedia            object\n",
       "launch               object\n",
       "EmbeddedFile         object\n",
       "XFA                  object\n",
       "Colors              float64\n",
       "Class                object\n",
       "dtype: object"
      ]
     },
     "execution_count": 4,
     "metadata": {},
     "output_type": "execute_result"
    }
   ],
   "source": [
    "dataset.dtypes"
   ]
  },
  {
   "cell_type": "markdown",
   "metadata": {
    "id": "1st-SKp6W0WY"
   },
   "source": [
    "**Preproccessing**"
   ]
  },
  {
   "cell_type": "code",
   "execution_count": 5,
   "metadata": {},
   "outputs": [],
   "source": [
    "# Input vào model chỉ có số, mà trong data ở trên có những cột có cả text (những cột này python định nghĩa dạng dữ liệu object, vì vậy cần chuyển về dạng dữ liệu số)\n",
    "# Ordinal encoder thực hiện việc chuyển đổi data từ dạng khác (object, string,...) về dạng số. Ví dụ [\"text1\", \"hi\", \"an com chua\", \"helu\"] -> [0, 1, 2, 3]\n",
    "\n",
    "# Import thư viện, hàm Ordinal Encoder\n",
    "from sklearn.preprocessing import OrdinalEncoder\n",
    "\n",
    "# Lọc ra những cột có thuộc tính là object từ dataframe (dataframe là cái biến dataset á), sau đó gán mảng chứa tên các thuộc tính là object vào biến tên là \"object columns\"\n",
    "# Từ cell dataset.dtypes phía trên thì có thể thấy được chỉ có object và float, vì vậy không cần lo là nó có các dạng khác như string\n",
    "# Thật ra object là dạng dữ liệu tổng quát nhất của python, nên trong object cũng có string rồi\n",
    "object_columns = dataset.select_dtypes(include=['object']).columns"
   ]
  },
  {
   "cell_type": "code",
   "execution_count": 6,
   "metadata": {},
   "outputs": [
    {
     "data": {
      "text/html": [
       "<div>\n",
       "<style scoped>\n",
       "    .dataframe tbody tr th:only-of-type {\n",
       "        vertical-align: middle;\n",
       "    }\n",
       "\n",
       "    .dataframe tbody tr th {\n",
       "        vertical-align: top;\n",
       "    }\n",
       "\n",
       "    .dataframe thead th {\n",
       "        text-align: right;\n",
       "    }\n",
       "</style>\n",
       "<table border=\"1\" class=\"dataframe\">\n",
       "  <thead>\n",
       "    <tr style=\"text-align: right;\">\n",
       "      <th></th>\n",
       "      <th>images</th>\n",
       "      <th>text</th>\n",
       "      <th>header</th>\n",
       "      <th>obj</th>\n",
       "      <th>endobj</th>\n",
       "      <th>endstream</th>\n",
       "      <th>xref</th>\n",
       "      <th>startxref</th>\n",
       "      <th>pageno</th>\n",
       "      <th>JS</th>\n",
       "      <th>Javascript</th>\n",
       "      <th>AA</th>\n",
       "      <th>OpenAction</th>\n",
       "      <th>Acroform</th>\n",
       "      <th>JBIG2Decode</th>\n",
       "      <th>RichMedia</th>\n",
       "      <th>launch</th>\n",
       "      <th>EmbeddedFile</th>\n",
       "      <th>XFA</th>\n",
       "      <th>Class</th>\n",
       "    </tr>\n",
       "  </thead>\n",
       "  <tbody>\n",
       "    <tr>\n",
       "      <th>0</th>\n",
       "      <td>0</td>\n",
       "      <td>No</td>\n",
       "      <td>\\t%PDF-1.3</td>\n",
       "      <td>10</td>\n",
       "      <td>10</td>\n",
       "      <td>3</td>\n",
       "      <td>1</td>\n",
       "      <td>1</td>\n",
       "      <td>1</td>\n",
       "      <td>1</td>\n",
       "      <td>1</td>\n",
       "      <td>0</td>\n",
       "      <td>1</td>\n",
       "      <td>0</td>\n",
       "      <td>0</td>\n",
       "      <td>0</td>\n",
       "      <td>0</td>\n",
       "      <td>0</td>\n",
       "      <td>0</td>\n",
       "      <td>Malicious</td>\n",
       "    </tr>\n",
       "    <tr>\n",
       "      <th>1</th>\n",
       "      <td>0</td>\n",
       "      <td>No</td>\n",
       "      <td>\\t%PDF-1.6</td>\n",
       "      <td>19</td>\n",
       "      <td>19</td>\n",
       "      <td>9</td>\n",
       "      <td>1</td>\n",
       "      <td>1</td>\n",
       "      <td>1</td>\n",
       "      <td>0</td>\n",
       "      <td>0</td>\n",
       "      <td>0</td>\n",
       "      <td>0</td>\n",
       "      <td>1</td>\n",
       "      <td>0</td>\n",
       "      <td>0</td>\n",
       "      <td>0</td>\n",
       "      <td>8</td>\n",
       "      <td>1</td>\n",
       "      <td>Malicious</td>\n",
       "    </tr>\n",
       "    <tr>\n",
       "      <th>2</th>\n",
       "      <td>0</td>\n",
       "      <td>Yes</td>\n",
       "      <td>\\t%PDF-1.3</td>\n",
       "      <td>12</td>\n",
       "      <td>12</td>\n",
       "      <td>3</td>\n",
       "      <td>1</td>\n",
       "      <td>1</td>\n",
       "      <td>2</td>\n",
       "      <td>1</td>\n",
       "      <td>2</td>\n",
       "      <td>0</td>\n",
       "      <td>1</td>\n",
       "      <td>0</td>\n",
       "      <td>0</td>\n",
       "      <td>0</td>\n",
       "      <td>0</td>\n",
       "      <td>0</td>\n",
       "      <td>0</td>\n",
       "      <td>Malicious</td>\n",
       "    </tr>\n",
       "    <tr>\n",
       "      <th>3</th>\n",
       "      <td>0</td>\n",
       "      <td>No</td>\n",
       "      <td>\\t%PDF-1.3</td>\n",
       "      <td>14</td>\n",
       "      <td>14</td>\n",
       "      <td>2</td>\n",
       "      <td>1</td>\n",
       "      <td>1</td>\n",
       "      <td>1</td>\n",
       "      <td>2</td>\n",
       "      <td>3</td>\n",
       "      <td>0</td>\n",
       "      <td>1</td>\n",
       "      <td>1</td>\n",
       "      <td>0</td>\n",
       "      <td>0</td>\n",
       "      <td>0</td>\n",
       "      <td>0</td>\n",
       "      <td>0</td>\n",
       "      <td>Malicious</td>\n",
       "    </tr>\n",
       "    <tr>\n",
       "      <th>4</th>\n",
       "      <td>0</td>\n",
       "      <td>Yes</td>\n",
       "      <td>\\t%PDF-1.3</td>\n",
       "      <td>15</td>\n",
       "      <td>15</td>\n",
       "      <td>4</td>\n",
       "      <td>1</td>\n",
       "      <td>1</td>\n",
       "      <td>3</td>\n",
       "      <td>1</td>\n",
       "      <td>2</td>\n",
       "      <td>0</td>\n",
       "      <td>1</td>\n",
       "      <td>0</td>\n",
       "      <td>0</td>\n",
       "      <td>0</td>\n",
       "      <td>0</td>\n",
       "      <td>0</td>\n",
       "      <td>0</td>\n",
       "      <td>Malicious</td>\n",
       "    </tr>\n",
       "    <tr>\n",
       "      <th>...</th>\n",
       "      <td>...</td>\n",
       "      <td>...</td>\n",
       "      <td>...</td>\n",
       "      <td>...</td>\n",
       "      <td>...</td>\n",
       "      <td>...</td>\n",
       "      <td>...</td>\n",
       "      <td>...</td>\n",
       "      <td>...</td>\n",
       "      <td>...</td>\n",
       "      <td>...</td>\n",
       "      <td>...</td>\n",
       "      <td>...</td>\n",
       "      <td>...</td>\n",
       "      <td>...</td>\n",
       "      <td>...</td>\n",
       "      <td>...</td>\n",
       "      <td>...</td>\n",
       "      <td>...</td>\n",
       "      <td>...</td>\n",
       "    </tr>\n",
       "    <tr>\n",
       "      <th>10021</th>\n",
       "      <td>3</td>\n",
       "      <td>No</td>\n",
       "      <td>\\t%PDF-1.3</td>\n",
       "      <td>9</td>\n",
       "      <td>9</td>\n",
       "      <td>3</td>\n",
       "      <td>1</td>\n",
       "      <td>1</td>\n",
       "      <td>1</td>\n",
       "      <td>1</td>\n",
       "      <td>1</td>\n",
       "      <td>0</td>\n",
       "      <td>1</td>\n",
       "      <td>0</td>\n",
       "      <td>0</td>\n",
       "      <td>0</td>\n",
       "      <td>0</td>\n",
       "      <td>0</td>\n",
       "      <td>0</td>\n",
       "      <td>Malicious</td>\n",
       "    </tr>\n",
       "    <tr>\n",
       "      <th>10022</th>\n",
       "      <td>-1</td>\n",
       "      <td>unclear</td>\n",
       "      <td>\\t%PDF-\\x07.3</td>\n",
       "      <td>8</td>\n",
       "      <td>7</td>\n",
       "      <td>2</td>\n",
       "      <td>1</td>\n",
       "      <td>1</td>\n",
       "      <td>1</td>\n",
       "      <td>1(1)</td>\n",
       "      <td>1</td>\n",
       "      <td>0</td>\n",
       "      <td>1</td>\n",
       "      <td>0</td>\n",
       "      <td>0</td>\n",
       "      <td>0</td>\n",
       "      <td>0</td>\n",
       "      <td>0</td>\n",
       "      <td>0</td>\n",
       "      <td>Malicious</td>\n",
       "    </tr>\n",
       "    <tr>\n",
       "      <th>10023</th>\n",
       "      <td>0</td>\n",
       "      <td>Yes</td>\n",
       "      <td>\\t%PDF-1.3</td>\n",
       "      <td>8</td>\n",
       "      <td>8</td>\n",
       "      <td>2</td>\n",
       "      <td>1</td>\n",
       "      <td>1</td>\n",
       "      <td>1</td>\n",
       "      <td>1</td>\n",
       "      <td>1</td>\n",
       "      <td>0</td>\n",
       "      <td>1</td>\n",
       "      <td>0</td>\n",
       "      <td>0</td>\n",
       "      <td>0</td>\n",
       "      <td>0</td>\n",
       "      <td>0</td>\n",
       "      <td>0</td>\n",
       "      <td>Malicious</td>\n",
       "    </tr>\n",
       "    <tr>\n",
       "      <th>10024</th>\n",
       "      <td>0</td>\n",
       "      <td>Yes</td>\n",
       "      <td>\\t%PDF-1.3</td>\n",
       "      <td>9</td>\n",
       "      <td>9</td>\n",
       "      <td>3</td>\n",
       "      <td>1</td>\n",
       "      <td>1</td>\n",
       "      <td>1</td>\n",
       "      <td>1</td>\n",
       "      <td>1</td>\n",
       "      <td>0</td>\n",
       "      <td>1</td>\n",
       "      <td>0</td>\n",
       "      <td>0</td>\n",
       "      <td>0</td>\n",
       "      <td>0</td>\n",
       "      <td>0</td>\n",
       "      <td>0</td>\n",
       "      <td>Malicious</td>\n",
       "    </tr>\n",
       "    <tr>\n",
       "      <th>10025</th>\n",
       "      <td>0</td>\n",
       "      <td>Yes</td>\n",
       "      <td>\\t%PDF-1.6</td>\n",
       "      <td>299</td>\n",
       "      <td>299</td>\n",
       "      <td>62</td>\n",
       "      <td>46</td>\n",
       "      <td>24</td>\n",
       "      <td>23</td>\n",
       "      <td>149</td>\n",
       "      <td>149</td>\n",
       "      <td>23</td>\n",
       "      <td>0</td>\n",
       "      <td>0</td>\n",
       "      <td>0</td>\n",
       "      <td>0</td>\n",
       "      <td>0</td>\n",
       "      <td>0</td>\n",
       "      <td>0</td>\n",
       "      <td>Malicious</td>\n",
       "    </tr>\n",
       "  </tbody>\n",
       "</table>\n",
       "<p>10026 rows × 20 columns</p>\n",
       "</div>"
      ],
      "text/plain": [
       "      images     text         header  obj endobj endstream xref startxref  \\\n",
       "0          0       No     \\t%PDF-1.3   10     10         3    1         1   \n",
       "1          0       No     \\t%PDF-1.6   19     19         9    1         1   \n",
       "2          0      Yes     \\t%PDF-1.3   12     12         3    1         1   \n",
       "3          0       No     \\t%PDF-1.3   14     14         2    1         1   \n",
       "4          0      Yes     \\t%PDF-1.3   15     15         4    1         1   \n",
       "...      ...      ...            ...  ...    ...       ...  ...       ...   \n",
       "10021      3       No     \\t%PDF-1.3    9      9         3    1         1   \n",
       "10022     -1  unclear  \\t%PDF-\\x07.3    8      7         2    1         1   \n",
       "10023      0      Yes     \\t%PDF-1.3    8      8         2    1         1   \n",
       "10024      0      Yes     \\t%PDF-1.3    9      9         3    1         1   \n",
       "10025      0      Yes     \\t%PDF-1.6  299    299        62   46        24   \n",
       "\n",
       "      pageno    JS Javascript  AA OpenAction Acroform JBIG2Decode RichMedia  \\\n",
       "0          1     1          1   0          1        0           0         0   \n",
       "1          1     0          0   0          0        1           0         0   \n",
       "2          2     1          2   0          1        0           0         0   \n",
       "3          1     2          3   0          1        1           0         0   \n",
       "4          3     1          2   0          1        0           0         0   \n",
       "...      ...   ...        ...  ..        ...      ...         ...       ...   \n",
       "10021      1     1          1   0          1        0           0         0   \n",
       "10022      1  1(1)          1   0          1        0           0         0   \n",
       "10023      1     1          1   0          1        0           0         0   \n",
       "10024      1     1          1   0          1        0           0         0   \n",
       "10025     23   149        149  23          0        0           0         0   \n",
       "\n",
       "      launch EmbeddedFile XFA      Class  \n",
       "0          0            0   0  Malicious  \n",
       "1          0            8   1  Malicious  \n",
       "2          0            0   0  Malicious  \n",
       "3          0            0   0  Malicious  \n",
       "4          0            0   0  Malicious  \n",
       "...      ...          ...  ..        ...  \n",
       "10021      0            0   0  Malicious  \n",
       "10022      0            0   0  Malicious  \n",
       "10023      0            0   0  Malicious  \n",
       "10024      0            0   0  Malicious  \n",
       "10025      0            0   0  Malicious  \n",
       "\n",
       "[10026 rows x 20 columns]"
      ]
     },
     "execution_count": 6,
     "metadata": {},
     "output_type": "execute_result"
    }
   ],
   "source": [
    "dataset[object_columns]"
   ]
  },
  {
   "cell_type": "code",
   "execution_count": 7,
   "metadata": {
    "id": "xWmun4HlLTKN"
   },
   "outputs": [],
   "source": [
    "# Khai báo biến encoder \n",
    "encoder = OrdinalEncoder()\n",
    "\n",
    "# Tiến hành fit và transform các cột có dạng dữ liệu là object trong dataframe\n",
    "dataset[object_columns] = encoder.fit_transform(dataset[object_columns])\n",
    "\n",
    "# Có thể viết tách ra như sau\n",
    "# encoder.fit(dataset[object_columns])\n",
    "# dataset[object_columns] = encoder.transform(dataset[object_columns])"
   ]
  },
  {
   "cell_type": "code",
   "execution_count": 8,
   "metadata": {},
   "outputs": [
    {
     "data": {
      "text/plain": [
       "pdfsize             1\n",
       "metadata size       1\n",
       "pages               1\n",
       "xref Length         1\n",
       "title characters    1\n",
       "isEncrypted         1\n",
       "embedded files      1\n",
       "images              1\n",
       "text                1\n",
       "header              1\n",
       "obj                 3\n",
       "endobj              3\n",
       "stream              3\n",
       "endstream           3\n",
       "xref                3\n",
       "trailer             3\n",
       "startxref           3\n",
       "pageno              3\n",
       "encrypt             3\n",
       "ObjStm              3\n",
       "JS                  3\n",
       "Javascript          3\n",
       "AA                  3\n",
       "OpenAction          3\n",
       "Acroform            3\n",
       "JBIG2Decode         3\n",
       "RichMedia           3\n",
       "launch              3\n",
       "EmbeddedFile        3\n",
       "XFA                 3\n",
       "Colors              3\n",
       "Class               1\n",
       "dtype: int64"
      ]
     },
     "execution_count": 8,
     "metadata": {},
     "output_type": "execute_result"
    }
   ],
   "source": [
    "# Check số lượng dòng bị khuyết của mỗi cột\n",
    "# Giúp có cái nhìn tổng quan về phạm vi và mức độ của dữ liệu bị thiếu trong DataFrame\n",
    "dataset.isna().sum()"
   ]
  },
  {
   "cell_type": "code",
   "execution_count": 9,
   "metadata": {
    "colab": {
     "base_uri": "https://localhost:8080/",
     "height": 424
    },
    "executionInfo": {
     "elapsed": 652,
     "status": "ok",
     "timestamp": 1662302908576,
     "user": {
      "displayName": "Novi Yuningsih",
      "userId": "08645790852716760917"
     },
     "user_tz": -420
    },
    "id": "7QV2gYlsjRmB",
    "outputId": "94db205b-cb9a-409d-8024-893f2fe444b9"
   },
   "outputs": [
    {
     "data": {
      "text/plain": [
       "pdfsize             0\n",
       "metadata size       0\n",
       "pages               0\n",
       "xref Length         0\n",
       "title characters    0\n",
       "isEncrypted         0\n",
       "embedded files      0\n",
       "images              0\n",
       "text                0\n",
       "header              0\n",
       "obj                 0\n",
       "endobj              0\n",
       "stream              0\n",
       "endstream           0\n",
       "xref                0\n",
       "trailer             0\n",
       "startxref           0\n",
       "pageno              0\n",
       "encrypt             0\n",
       "ObjStm              0\n",
       "JS                  0\n",
       "Javascript          0\n",
       "AA                  0\n",
       "OpenAction          0\n",
       "Acroform            0\n",
       "JBIG2Decode         0\n",
       "RichMedia           0\n",
       "launch              0\n",
       "EmbeddedFile        0\n",
       "XFA                 0\n",
       "Colors              0\n",
       "Class               0\n",
       "dtype: int64"
      ]
     },
     "execution_count": 9,
     "metadata": {},
     "output_type": "execute_result"
    }
   ],
   "source": [
    "# Sau khi xử lí có vài giá trị khuyết, vì vậy bỏ những cột bị khuyết giá trị bằng câu lệnh sau\n",
    "# Làm như thế nào để check thì \n",
    "dataset.dropna(inplace=True)\n",
    "dataset.isna().sum()"
   ]
  },
  {
   "cell_type": "code",
   "execution_count": 10,
   "metadata": {
    "id": "pVEEzGB87fC-"
   },
   "outputs": [],
   "source": [
    "y = dataset['Class']\n",
    "X = dataset.drop(['Class'], axis =1)"
   ]
  },
  {
   "cell_type": "code",
   "execution_count": 11,
   "metadata": {
    "colab": {
     "base_uri": "https://localhost:8080/",
     "height": 424
    },
    "executionInfo": {
     "elapsed": 22,
     "status": "ok",
     "timestamp": 1662302913041,
     "user": {
      "displayName": "Novi Yuningsih",
      "userId": "08645790852716760917"
     },
     "user_tz": -420
    },
    "id": "D9LqJhrA7hLy",
    "outputId": "56b3173c-56be-4cbf-8c0a-8eab98d92e46"
   },
   "outputs": [],
   "source": [
    "# Chuyển dữ liệu về int\n",
    "# Vì đây là mô hình phân loại nên sẽ để hai biến độc lập, còn float thì máy có thể hiểu nó là hai biến liên tục\n",
    "# 1.0 đến 2.0 là liên tục nè, còn 1 với 2 là độc lập. Hoặc \"1\" với \"2\" (string) cũng là độc lập\n",
    "# Bước này làm cho chắc thoi\n",
    "y = y.astype(int)"
   ]
  },
  {
   "cell_type": "code",
   "execution_count": 12,
   "metadata": {
    "colab": {
     "base_uri": "https://localhost:8080/",
     "height": 347
    },
    "executionInfo": {
     "elapsed": 20,
     "status": "ok",
     "timestamp": 1662302922063,
     "user": {
      "displayName": "Novi Yuningsih",
      "userId": "08645790852716760917"
     },
     "user_tz": -420
    },
    "id": "ojBRVaE_7i4L",
    "outputId": "220243f2-4dbc-41f2-e872-4a3cbd3d2ac1"
   },
   "outputs": [
    {
     "name": "stdout",
     "output_type": "stream",
     "text": [
      "Class\n",
      "1.0    5555\n",
      "0.0    4468\n",
      "Name: count, dtype: int64\n"
     ]
    },
    {
     "data": {
      "image/png": "[encoded data removed]",
      "text/plain": [
       "<Figure size 640x480 with 1 Axes>"
      ]
     },
     "metadata": {},
     "output_type": "display_data"
    }
   ],
   "source": [
    "# Vẽ biểu đồ số lượng nhãn của cột target, biểu đồ cột-bar chart\n",
    "\n",
    "c = pd.DataFrame(data=y)\n",
    "c.Class.value_counts().plot(kind='bar', title='Data Imbalance');\n",
    "print(dataset['Class'].value_counts())"
   ]
  },
  {
   "cell_type": "markdown",
   "metadata": {
    "id": "KXmvplKEYBRA"
   },
   "source": [
    "**SMOTE**\n",
    "(**Random** **Over** **Sampler**)"
   ]
  },
  {
   "cell_type": "code",
   "execution_count": 13,
   "metadata": {
    "id": "4lKuUs4E77mf"
   },
   "outputs": [],
   "source": [
    "# MinMax Scaler chuẩn hóa giá trị từ 0-1 => đồng nhất, dễ quản lý, cải thiện hiệu suất, máy đọc từ 0->1\n",
    "# Ngoài ra còn có StandardScaler chuẩn hoá giá trị về phạm vi -1, 1 (đôi lúc có thể ngoài xíu)\n",
    "# Khác nhau chỗ nào thì tìm hiểu, cũng dễ á\n",
    "\n",
    "from sklearn.preprocessing import MinMaxScaler\n",
    "mm = MinMaxScaler()\n",
    "# Đưa dữ liệu cho mô hình học\n",
    "mm.fit(X)\n",
    "\n",
    "# Chuyển đổi dữ liệu sau khi mô hình đã học\n",
    "X_mm = mm.transform(X)\n",
    "# X_mm =mm.fit_transform(X)"
   ]
  },
  {
   "cell_type": "markdown",
   "metadata": {},
   "source": [
    "Random Oversampling: Randomly duplicate examples in the minority class. (1: 900; 0: 100 -> 1: 900; 0: 900)\n",
    "\n",
    "Random Undersampling: Randomly delete examples in the majority class.(1: 900; 0: 100 -> 1: 100; 0: 100)"
   ]
  },
  {
   "cell_type": "code",
   "execution_count": 14,
   "metadata": {
    "id": "uCtnYVW179oP"
   },
   "outputs": [],
   "source": [
    "# Cân bằng dữ liệu, lấy duplicate mẫu trong class ít để cho nhiều lên bằng class còn lại\n",
    "\n",
    "OverSampler = RandomOverSampler(random_state=0, sampling_strategy='auto')\n",
    "X_resample, y_resample = OverSampler.fit_resample(X,y)"
   ]
  },
  {
   "cell_type": "code",
   "execution_count": 15,
   "metadata": {
    "colab": {
     "base_uri": "https://localhost:8080/"
    },
    "executionInfo": {
     "elapsed": 716,
     "status": "ok",
     "timestamp": 1662302938295,
     "user": {
      "displayName": "Novi Yuningsih",
      "userId": "08645790852716760917"
     },
     "user_tz": -420
    },
    "id": "RGse0S4P7_e8",
    "outputId": "38b3bca0-5682-447d-dbd6-41044584a8a8"
   },
   "outputs": [
    {
     "data": {
      "text/plain": [
       "10023"
      ]
     },
     "execution_count": 15,
     "metadata": {},
     "output_type": "execute_result"
    }
   ],
   "source": [
    "len(X_mm)"
   ]
  },
  {
   "cell_type": "code",
   "execution_count": 16,
   "metadata": {
    "colab": {
     "base_uri": "https://localhost:8080/",
     "height": 424
    },
    "executionInfo": {
     "elapsed": 522,
     "status": "ok",
     "timestamp": 1662302941171,
     "user": {
      "displayName": "Novi Yuningsih",
      "userId": "08645790852716760917"
     },
     "user_tz": -420
    },
    "id": "E6ob9PdV8AfE",
    "outputId": "491ec0ab-ba24-4bb7-ff9b-dd1a197392fa"
   },
   "outputs": [
    {
     "data": {
      "text/html": [
       "<div>\n",
       "<style scoped>\n",
       "    .dataframe tbody tr th:only-of-type {\n",
       "        vertical-align: middle;\n",
       "    }\n",
       "\n",
       "    .dataframe tbody tr th {\n",
       "        vertical-align: top;\n",
       "    }\n",
       "\n",
       "    .dataframe thead th {\n",
       "        text-align: right;\n",
       "    }\n",
       "</style>\n",
       "<table border=\"1\" class=\"dataframe\">\n",
       "  <thead>\n",
       "    <tr style=\"text-align: right;\">\n",
       "      <th></th>\n",
       "      <th>pdfsize</th>\n",
       "      <th>metadata size</th>\n",
       "      <th>pages</th>\n",
       "      <th>xref Length</th>\n",
       "      <th>title characters</th>\n",
       "      <th>isEncrypted</th>\n",
       "      <th>embedded files</th>\n",
       "      <th>images</th>\n",
       "      <th>text</th>\n",
       "      <th>header</th>\n",
       "      <th>...</th>\n",
       "      <th>Javascript</th>\n",
       "      <th>AA</th>\n",
       "      <th>OpenAction</th>\n",
       "      <th>Acroform</th>\n",
       "      <th>JBIG2Decode</th>\n",
       "      <th>RichMedia</th>\n",
       "      <th>launch</th>\n",
       "      <th>EmbeddedFile</th>\n",
       "      <th>XFA</th>\n",
       "      <th>Colors</th>\n",
       "    </tr>\n",
       "  </thead>\n",
       "  <tbody>\n",
       "    <tr>\n",
       "      <th>0</th>\n",
       "      <td>0.000378</td>\n",
       "      <td>0.002345</td>\n",
       "      <td>0.003356</td>\n",
       "      <td>0.000045</td>\n",
       "      <td>0.000013</td>\n",
       "      <td>0.2</td>\n",
       "      <td>0.166667</td>\n",
       "      <td>0.011364</td>\n",
       "      <td>0.50</td>\n",
       "      <td>0.204082</td>\n",
       "      <td>...</td>\n",
       "      <td>0.058824</td>\n",
       "      <td>0.025641</td>\n",
       "      <td>0.285714</td>\n",
       "      <td>0.111111</td>\n",
       "      <td>0.066667</td>\n",
       "      <td>0.166667</td>\n",
       "      <td>0.25</td>\n",
       "      <td>0.055556</td>\n",
       "      <td>0.166667</td>\n",
       "      <td>0.000176</td>\n",
       "    </tr>\n",
       "    <tr>\n",
       "      <th>1</th>\n",
       "      <td>0.000672</td>\n",
       "      <td>0.002915</td>\n",
       "      <td>0.001678</td>\n",
       "      <td>0.000080</td>\n",
       "      <td>0.000104</td>\n",
       "      <td>0.2</td>\n",
       "      <td>0.166667</td>\n",
       "      <td>0.011364</td>\n",
       "      <td>0.50</td>\n",
       "      <td>0.428571</td>\n",
       "      <td>...</td>\n",
       "      <td>0.029412</td>\n",
       "      <td>0.025641</td>\n",
       "      <td>0.142857</td>\n",
       "      <td>0.222222</td>\n",
       "      <td>0.066667</td>\n",
       "      <td>0.166667</td>\n",
       "      <td>0.25</td>\n",
       "      <td>0.944444</td>\n",
       "      <td>0.333333</td>\n",
       "      <td>0.000176</td>\n",
       "    </tr>\n",
       "    <tr>\n",
       "      <th>2</th>\n",
       "      <td>0.000210</td>\n",
       "      <td>0.006076</td>\n",
       "      <td>0.005034</td>\n",
       "      <td>0.000053</td>\n",
       "      <td>0.000221</td>\n",
       "      <td>0.2</td>\n",
       "      <td>0.166667</td>\n",
       "      <td>0.011364</td>\n",
       "      <td>0.75</td>\n",
       "      <td>0.204082</td>\n",
       "      <td>...</td>\n",
       "      <td>0.323529</td>\n",
       "      <td>0.025641</td>\n",
       "      <td>0.285714</td>\n",
       "      <td>0.111111</td>\n",
       "      <td>0.066667</td>\n",
       "      <td>0.166667</td>\n",
       "      <td>0.25</td>\n",
       "      <td>0.055556</td>\n",
       "      <td>0.166667</td>\n",
       "      <td>0.000176</td>\n",
       "    </tr>\n",
       "    <tr>\n",
       "      <th>3</th>\n",
       "      <td>0.000756</td>\n",
       "      <td>0.003252</td>\n",
       "      <td>0.003356</td>\n",
       "      <td>0.000061</td>\n",
       "      <td>0.000013</td>\n",
       "      <td>0.2</td>\n",
       "      <td>0.166667</td>\n",
       "      <td>0.011364</td>\n",
       "      <td>0.50</td>\n",
       "      <td>0.204082</td>\n",
       "      <td>...</td>\n",
       "      <td>0.470588</td>\n",
       "      <td>0.025641</td>\n",
       "      <td>0.285714</td>\n",
       "      <td>0.222222</td>\n",
       "      <td>0.066667</td>\n",
       "      <td>0.166667</td>\n",
       "      <td>0.25</td>\n",
       "      <td>0.055556</td>\n",
       "      <td>0.166667</td>\n",
       "      <td>0.000176</td>\n",
       "    </tr>\n",
       "    <tr>\n",
       "      <th>4</th>\n",
       "      <td>0.000336</td>\n",
       "      <td>0.003278</td>\n",
       "      <td>0.006711</td>\n",
       "      <td>0.000064</td>\n",
       "      <td>0.000597</td>\n",
       "      <td>0.2</td>\n",
       "      <td>0.166667</td>\n",
       "      <td>0.011364</td>\n",
       "      <td>0.75</td>\n",
       "      <td>0.204082</td>\n",
       "      <td>...</td>\n",
       "      <td>0.323529</td>\n",
       "      <td>0.025641</td>\n",
       "      <td>0.285714</td>\n",
       "      <td>0.111111</td>\n",
       "      <td>0.066667</td>\n",
       "      <td>0.166667</td>\n",
       "      <td>0.25</td>\n",
       "      <td>0.055556</td>\n",
       "      <td>0.166667</td>\n",
       "      <td>0.000176</td>\n",
       "    </tr>\n",
       "    <tr>\n",
       "      <th>...</th>\n",
       "      <td>...</td>\n",
       "      <td>...</td>\n",
       "      <td>...</td>\n",
       "      <td>...</td>\n",
       "      <td>...</td>\n",
       "      <td>...</td>\n",
       "      <td>...</td>\n",
       "      <td>...</td>\n",
       "      <td>...</td>\n",
       "      <td>...</td>\n",
       "      <td>...</td>\n",
       "      <td>...</td>\n",
       "      <td>...</td>\n",
       "      <td>...</td>\n",
       "      <td>...</td>\n",
       "      <td>...</td>\n",
       "      <td>...</td>\n",
       "      <td>...</td>\n",
       "      <td>...</td>\n",
       "      <td>...</td>\n",
       "      <td>...</td>\n",
       "    </tr>\n",
       "    <tr>\n",
       "      <th>10018</th>\n",
       "      <td>0.022253</td>\n",
       "      <td>0.003848</td>\n",
       "      <td>0.003356</td>\n",
       "      <td>0.000333</td>\n",
       "      <td>0.000117</td>\n",
       "      <td>0.2</td>\n",
       "      <td>0.166667</td>\n",
       "      <td>0.352273</td>\n",
       "      <td>0.50</td>\n",
       "      <td>0.204082</td>\n",
       "      <td>...</td>\n",
       "      <td>0.058824</td>\n",
       "      <td>0.025641</td>\n",
       "      <td>0.285714</td>\n",
       "      <td>0.111111</td>\n",
       "      <td>0.066667</td>\n",
       "      <td>0.166667</td>\n",
       "      <td>0.25</td>\n",
       "      <td>0.055556</td>\n",
       "      <td>0.166667</td>\n",
       "      <td>0.000176</td>\n",
       "    </tr>\n",
       "    <tr>\n",
       "      <th>10019</th>\n",
       "      <td>0.003107</td>\n",
       "      <td>0.004081</td>\n",
       "      <td>0.003356</td>\n",
       "      <td>0.000064</td>\n",
       "      <td>0.000052</td>\n",
       "      <td>0.2</td>\n",
       "      <td>0.166667</td>\n",
       "      <td>0.000000</td>\n",
       "      <td>1.00</td>\n",
       "      <td>0.693878</td>\n",
       "      <td>...</td>\n",
       "      <td>0.058824</td>\n",
       "      <td>0.025641</td>\n",
       "      <td>0.285714</td>\n",
       "      <td>0.111111</td>\n",
       "      <td>0.066667</td>\n",
       "      <td>0.166667</td>\n",
       "      <td>0.25</td>\n",
       "      <td>0.055556</td>\n",
       "      <td>0.166667</td>\n",
       "      <td>0.000176</td>\n",
       "    </tr>\n",
       "    <tr>\n",
       "      <th>10020</th>\n",
       "      <td>0.000210</td>\n",
       "      <td>0.004897</td>\n",
       "      <td>0.005034</td>\n",
       "      <td>0.000053</td>\n",
       "      <td>0.000156</td>\n",
       "      <td>0.2</td>\n",
       "      <td>0.166667</td>\n",
       "      <td>0.011364</td>\n",
       "      <td>0.75</td>\n",
       "      <td>0.204082</td>\n",
       "      <td>...</td>\n",
       "      <td>0.058824</td>\n",
       "      <td>0.025641</td>\n",
       "      <td>0.285714</td>\n",
       "      <td>0.111111</td>\n",
       "      <td>0.066667</td>\n",
       "      <td>0.166667</td>\n",
       "      <td>0.25</td>\n",
       "      <td>0.055556</td>\n",
       "      <td>0.166667</td>\n",
       "      <td>0.000176</td>\n",
       "    </tr>\n",
       "    <tr>\n",
       "      <th>10021</th>\n",
       "      <td>0.001637</td>\n",
       "      <td>0.004392</td>\n",
       "      <td>0.003356</td>\n",
       "      <td>0.757637</td>\n",
       "      <td>0.000182</td>\n",
       "      <td>0.2</td>\n",
       "      <td>0.166667</td>\n",
       "      <td>0.011364</td>\n",
       "      <td>0.75</td>\n",
       "      <td>0.204082</td>\n",
       "      <td>...</td>\n",
       "      <td>0.058824</td>\n",
       "      <td>0.025641</td>\n",
       "      <td>0.285714</td>\n",
       "      <td>0.111111</td>\n",
       "      <td>0.066667</td>\n",
       "      <td>0.166667</td>\n",
       "      <td>0.25</td>\n",
       "      <td>0.055556</td>\n",
       "      <td>0.166667</td>\n",
       "      <td>0.000176</td>\n",
       "    </tr>\n",
       "    <tr>\n",
       "      <th>10022</th>\n",
       "      <td>0.000126</td>\n",
       "      <td>0.002345</td>\n",
       "      <td>0.003356</td>\n",
       "      <td>0.000045</td>\n",
       "      <td>0.000013</td>\n",
       "      <td>0.2</td>\n",
       "      <td>0.333333</td>\n",
       "      <td>0.011364</td>\n",
       "      <td>0.75</td>\n",
       "      <td>0.428571</td>\n",
       "      <td>...</td>\n",
       "      <td>0.205882</td>\n",
       "      <td>0.615385</td>\n",
       "      <td>0.142857</td>\n",
       "      <td>0.111111</td>\n",
       "      <td>0.066667</td>\n",
       "      <td>0.166667</td>\n",
       "      <td>0.25</td>\n",
       "      <td>0.055556</td>\n",
       "      <td>0.166667</td>\n",
       "      <td>0.000176</td>\n",
       "    </tr>\n",
       "  </tbody>\n",
       "</table>\n",
       "<p>10023 rows × 31 columns</p>\n",
       "</div>"
      ],
      "text/plain": [
       "        pdfsize  metadata size     pages  xref Length  title characters  \\\n",
       "0      0.000378       0.002345  0.003356     0.000045          0.000013   \n",
       "1      0.000672       0.002915  0.001678     0.000080          0.000104   \n",
       "2      0.000210       0.006076  0.005034     0.000053          0.000221   \n",
       "3      0.000756       0.003252  0.003356     0.000061          0.000013   \n",
       "4      0.000336       0.003278  0.006711     0.000064          0.000597   \n",
       "...         ...            ...       ...          ...               ...   \n",
       "10018  0.022253       0.003848  0.003356     0.000333          0.000117   \n",
       "10019  0.003107       0.004081  0.003356     0.000064          0.000052   \n",
       "10020  0.000210       0.004897  0.005034     0.000053          0.000156   \n",
       "10021  0.001637       0.004392  0.003356     0.757637          0.000182   \n",
       "10022  0.000126       0.002345  0.003356     0.000045          0.000013   \n",
       "\n",
       "       isEncrypted  embedded files    images  text    header  ...  Javascript  \\\n",
       "0              0.2        0.166667  0.011364  0.50  0.204082  ...    0.058824   \n",
       "1              0.2        0.166667  0.011364  0.50  0.428571  ...    0.029412   \n",
       "2              0.2        0.166667  0.011364  0.75  0.204082  ...    0.323529   \n",
       "3              0.2        0.166667  0.011364  0.50  0.204082  ...    0.470588   \n",
       "4              0.2        0.166667  0.011364  0.75  0.204082  ...    0.323529   \n",
       "...            ...             ...       ...   ...       ...  ...         ...   \n",
       "10018          0.2        0.166667  0.352273  0.50  0.204082  ...    0.058824   \n",
       "10019          0.2        0.166667  0.000000  1.00  0.693878  ...    0.058824   \n",
       "10020          0.2        0.166667  0.011364  0.75  0.204082  ...    0.058824   \n",
       "10021          0.2        0.166667  0.011364  0.75  0.204082  ...    0.058824   \n",
       "10022          0.2        0.333333  0.011364  0.75  0.428571  ...    0.205882   \n",
       "\n",
       "             AA  OpenAction  Acroform  JBIG2Decode  RichMedia  launch  \\\n",
       "0      0.025641    0.285714  0.111111     0.066667   0.166667    0.25   \n",
       "1      0.025641    0.142857  0.222222     0.066667   0.166667    0.25   \n",
       "2      0.025641    0.285714  0.111111     0.066667   0.166667    0.25   \n",
       "3      0.025641    0.285714  0.222222     0.066667   0.166667    0.25   \n",
       "4      0.025641    0.285714  0.111111     0.066667   0.166667    0.25   \n",
       "...         ...         ...       ...          ...        ...     ...   \n",
       "10018  0.025641    0.285714  0.111111     0.066667   0.166667    0.25   \n",
       "10019  0.025641    0.285714  0.111111     0.066667   0.166667    0.25   \n",
       "10020  0.025641    0.285714  0.111111     0.066667   0.166667    0.25   \n",
       "10021  0.025641    0.285714  0.111111     0.066667   0.166667    0.25   \n",
       "10022  0.615385    0.142857  0.111111     0.066667   0.166667    0.25   \n",
       "\n",
       "       EmbeddedFile       XFA    Colors  \n",
       "0          0.055556  0.166667  0.000176  \n",
       "1          0.944444  0.333333  0.000176  \n",
       "2          0.055556  0.166667  0.000176  \n",
       "3          0.055556  0.166667  0.000176  \n",
       "4          0.055556  0.166667  0.000176  \n",
       "...             ...       ...       ...  \n",
       "10018      0.055556  0.166667  0.000176  \n",
       "10019      0.055556  0.166667  0.000176  \n",
       "10020      0.055556  0.166667  0.000176  \n",
       "10021      0.055556  0.166667  0.000176  \n",
       "10022      0.055556  0.166667  0.000176  \n",
       "\n",
       "[10023 rows x 31 columns]"
      ]
     },
     "execution_count": 16,
     "metadata": {},
     "output_type": "execute_result"
    }
   ],
   "source": [
    "# Khúc này code có sẵn print ra để xem thôi chứ không có gì, bỏ cell này cũng được cho đỡ rối\n",
    "conv = pd.DataFrame(X_mm,columns=  X.columns)\n",
    "\n",
    "conv"
   ]
  },
  {
   "cell_type": "code",
   "execution_count": 17,
   "metadata": {},
   "outputs": [],
   "source": [
    "from sklearn.model_selection import train_test_split\n",
    "X_train, X_test, y_train, y_test = train_test_split(X_mm, y, train_size=0.8)"
   ]
  },
  {
   "cell_type": "code",
   "execution_count": 18,
   "metadata": {},
   "outputs": [
    {
     "data": {
      "text/plain": [
       "6034    0\n",
       "2813    1\n",
       "2759    1\n",
       "8722    0\n",
       "7218    0\n",
       "       ..\n",
       "9496    0\n",
       "3872    1\n",
       "1672    1\n",
       "4610    1\n",
       "4929    1\n",
       "Name: Class, Length: 2005, dtype: int32"
      ]
     },
     "execution_count": 18,
     "metadata": {},
     "output_type": "execute_result"
    }
   ],
   "source": [
    "y_test"
   ]
  },
  {
   "cell_type": "markdown",
   "metadata": {
    "id": "nfJRDq8MXcw4"
   },
   "source": [
    "**Import Library SMOTE**"
   ]
  },
  {
   "cell_type": "code",
   "execution_count": 19,
   "metadata": {
    "id": "KLaLTu6R8NiU"
   },
   "outputs": [],
   "source": [
    "# Cũng là phương pháp cân bằng dữ liệu khác, tạo sinh dữ liệu của lớp ít cho bằng với lớp nhiều \n",
    "# (tự tạo thêm điểm dữ liệu từ những điểm dữ liệu có sẵn, thuật toán tự tìm hiểu thêm, cũng dễ hiểu)\n",
    "from imblearn.over_sampling import SMOTE\n",
    "\n",
    "smote = SMOTE()\n",
    "X_smote, y_smote = smote.fit_resample(X_train, y_train)"
   ]
  },
  {
   "cell_type": "code",
   "execution_count": 20,
   "metadata": {
    "colab": {
     "base_uri": "https://localhost:8080/",
     "height": 365
    },
    "executionInfo": {
     "elapsed": 426,
     "status": "ok",
     "timestamp": 1662302975280,
     "user": {
      "displayName": "Novi Yuningsih",
      "userId": "08645790852716760917"
     },
     "user_tz": -420
    },
    "id": "LMjvwusK8QMF",
    "outputId": "a5a12cc8-5e75-42f7-91b3-70bbdd7fe41f"
   },
   "outputs": [
    {
     "name": "stdout",
     "output_type": "stream",
     "text": [
      "Class\n",
      "0        4455\n",
      "1        4455\n",
      "Name: count, dtype: int64\n"
     ]
    },
    {
     "data": {
      "image/png": "[encoded data removed]",
      "text/plain": [
       "<Figure size 640x480 with 1 Axes>"
      ]
     },
     "metadata": {},
     "output_type": "display_data"
    }
   ],
   "source": [
    "c = pd.DataFrame(data=y_smote,columns=[\"Class\"])\n",
    "c.Class.value_counts().plot(kind='bar', title='Data Balance');\n",
    "print (c.value_counts())"
   ]
  },
  {
   "cell_type": "code",
   "execution_count": 21,
   "metadata": {
    "colab": {
     "base_uri": "https://localhost:8080/"
    },
    "executionInfo": {
     "elapsed": 423,
     "status": "ok",
     "timestamp": 1662302978531,
     "user": {
      "displayName": "Novi Yuningsih",
      "userId": "08645790852716760917"
     },
     "user_tz": -420
    },
    "id": "EcEvQCtjQ7Yi",
    "outputId": "d1c81109-dca8-4dc0-8ca0-559a694818e8"
   },
   "outputs": [
    {
     "data": {
      "text/plain": [
       "array([[0.00075576, 0.00234498, 0.0033557 , ..., 0.05555556, 0.16666667,\n",
       "        0.00017596],\n",
       "       [0.00041987, 0.00234498, 0.00167785, ..., 0.05555556, 0.16666667,\n",
       "        0.00017596],\n",
       "       [0.00361087, 0.00367942, 0.0033557 , ..., 0.05555556, 0.16666667,\n",
       "        0.00017596],\n",
       "       ...,\n",
       "       [0.00397649, 0.00507481, 0.00593798, ..., 0.05555556, 0.16666667,\n",
       "        0.00017596],\n",
       "       [0.00302305, 0.00342888, 0.0033557 , ..., 0.05555556, 0.16666667,\n",
       "        0.00017596],\n",
       "       [0.00326345, 0.00367942, 0.00457604, ..., 0.05555556, 0.16666667,\n",
       "        0.00017596]])"
      ]
     },
     "execution_count": 21,
     "metadata": {},
     "output_type": "execute_result"
    }
   ],
   "source": [
    "X_smote"
   ]
  },
  {
   "cell_type": "code",
   "execution_count": 22,
   "metadata": {
    "colab": {
     "base_uri": "https://localhost:8080/"
    },
    "executionInfo": {
     "elapsed": 36,
     "status": "ok",
     "timestamp": 1662302985009,
     "user": {
      "displayName": "Novi Yuningsih",
      "userId": "08645790852716760917"
     },
     "user_tz": -420
    },
    "id": "Xy9UV_cpXDWm",
    "outputId": "c79dcd17-3a49-402d-b53b-dfe5dd974234"
   },
   "outputs": [
    {
     "data": {
      "text/plain": [
       "0       1\n",
       "1       1\n",
       "2       0\n",
       "3       1\n",
       "4       1\n",
       "       ..\n",
       "8905    0\n",
       "8906    0\n",
       "8907    0\n",
       "8908    0\n",
       "8909    0\n",
       "Name: Class, Length: 8910, dtype: int32"
      ]
     },
     "execution_count": 22,
     "metadata": {},
     "output_type": "execute_result"
    }
   ],
   "source": [
    "y_smote"
   ]
  },
  {
   "cell_type": "code",
   "execution_count": 23,
   "metadata": {
    "id": "YFenNaiIjQQ-"
   },
   "outputs": [
    {
     "name": "stdout",
     "output_type": "stream",
     "text": [
      "Thời gian thực hiện:  7.511873960494995 giây\n"
     ]
    }
   ],
   "source": [
    "from sklearn.ensemble import RandomForestClassifier\n",
    "import time\n",
    "# Tạo một biến lưu mô hình Decision Tree\n",
    "model = RandomForestClassifier(n_estimators=1000)\n",
    "\n",
    "start_time = time.time()\n",
    "model.fit (X_smote, y_smote)\n",
    "end_time = time.time()\n",
    "\n",
    "execution_time = end_time - start_time\n",
    "print(\"Thời gian thực hiện: \", execution_time, \"giây\")"
   ]
  },
  {
   "cell_type": "markdown",
   "metadata": {},
   "source": [
    "**Tính time model predict**"
   ]
  },
  {
   "cell_type": "code",
   "execution_count": 24,
   "metadata": {
    "colab": {
     "base_uri": "https://localhost:8080/"
    },
    "executionInfo": {
     "elapsed": 123088,
     "status": "ok",
     "timestamp": 1662191717646,
     "user": {
      "displayName": "Novi Yuningsih",
      "userId": "08645790852716760917"
     },
     "user_tz": -420
    },
    "id": "yTJpHvr5kJO1",
    "outputId": "a499ee5f-8b01-4501-d2dc-2c692f081226",
    "scrolled": true
   },
   "outputs": [
    {
     "name": "stdout",
     "output_type": "stream",
     "text": [
      "Thời gian thực hiện:  0.12441062927246094 giây\n"
     ]
    }
   ],
   "source": [
    "\n",
    "\n",
    "start_time = time.time()\n",
    "y_pred = model.predict(X_test)\n",
    "end_time = time.time()\n",
    "\n",
    "execution_time = end_time - start_time\n",
    "print(\"Thời gian thực hiện: \", execution_time, \"giây\")"
   ]
  },
  {
   "cell_type": "code",
   "execution_count": 25,
   "metadata": {},
   "outputs": [
    {
     "data": {
      "text/plain": [
       "2005"
      ]
     },
     "execution_count": 25,
     "metadata": {},
     "output_type": "execute_result"
    }
   ],
   "source": [
    "len(X_test)"
   ]
  },
  {
   "cell_type": "code",
   "execution_count": 26,
   "metadata": {},
   "outputs": [
    {
     "data": {
      "text/plain": [
       "6034    0\n",
       "2813    1\n",
       "2759    1\n",
       "8722    0\n",
       "7218    0\n",
       "       ..\n",
       "9496    0\n",
       "3872    1\n",
       "1672    1\n",
       "4610    1\n",
       "4929    1\n",
       "Name: Class, Length: 2005, dtype: int32"
      ]
     },
     "execution_count": 26,
     "metadata": {},
     "output_type": "execute_result"
    }
   ],
   "source": [
    "y_test"
   ]
  },
  {
   "cell_type": "code",
   "execution_count": 27,
   "metadata": {},
   "outputs": [
    {
     "data": {
      "text/plain": [
       "array([0, 1, 1, ..., 1, 1, 1])"
      ]
     },
     "execution_count": 27,
     "metadata": {},
     "output_type": "execute_result"
    }
   ],
   "source": [
    "y_pred"
   ]
  },
  {
   "cell_type": "code",
   "execution_count": 28,
   "metadata": {},
   "outputs": [],
   "source": [
    "from sklearn.model_selection import StratifiedKFold\n",
    "from sklearn.metrics import confusion_matrix, classification_report\n",
    "\n",
    "# Định nghĩa KFold (KFold dùng để chia dữ liệu thành nhiều khối nhỏ, đảm bảo dữ tính tổng quát khi đánh giá dữ liệu)\n",
    "skf = StratifiedKFold(n_splits=5)\n",
    "score_skf = []\n",
    "best_score = 0\n",
    "best_cm=None\n",
    "X_best, y_best = np.zeros(2)"
   ]
  },
  {
   "cell_type": "code",
   "execution_count": 29,
   "metadata": {},
   "outputs": [],
   "source": [
    "# Tính điểm cho từng fold trong K-Fold\n",
    "for train_index, test_index in skf.split(X_smote, y_smote):\n",
    "  X_train, X_test_kFold = X_smote[train_index], X_smote[test_index]\n",
    "  y_train, y_test_kFold = y_smote[train_index], y_smote[test_index]\n",
    "  \n",
    "  tree=RandomForestClassifier()\n",
    "  \n",
    "  tree.fit(X_train, y_train)\n",
    "  \n",
    "  score = tree.score(X_test_kFold, y_test_kFold)\n",
    "  y_pred=tree.predict(X_test)\n",
    "  score_skf.append(score)\n",
    "  if score > best_score:\n",
    "    best_score=score\n",
    "    best_cm=confusion_matrix(y_test, y_pred)\n",
    "    X_best = X_test\n",
    "    y_best = y_test"
   ]
  },
  {
   "cell_type": "code",
   "execution_count": 30,
   "metadata": {},
   "outputs": [
    {
     "data": {
      "text/plain": [
       "0.9966329966329966"
      ]
     },
     "execution_count": 30,
     "metadata": {},
     "output_type": "execute_result"
    }
   ],
   "source": [
    "best_score"
   ]
  },
  {
   "cell_type": "code",
   "execution_count": 31,
   "metadata": {},
   "outputs": [
    {
     "data": {
      "text/plain": [
       "[0.9949494949494949,\n",
       " 0.9960718294051627,\n",
       " 0.9876543209876543,\n",
       " 0.9943883277216611,\n",
       " 0.9966329966329966]"
      ]
     },
     "execution_count": 31,
     "metadata": {},
     "output_type": "execute_result"
    }
   ],
   "source": [
    "score_skf"
   ]
  },
  {
   "cell_type": "code",
   "execution_count": 32,
   "metadata": {},
   "outputs": [
    {
     "data": {
      "text/plain": [
       "array([[ 898,    7],\n",
       "       [   6, 1094]], dtype=int64)"
      ]
     },
     "execution_count": 32,
     "metadata": {},
     "output_type": "execute_result"
    }
   ],
   "source": [
    "best_cm"
   ]
  },
  {
   "cell_type": "markdown",
   "metadata": {},
   "source": [
    "**Confunsion Matrix**"
   ]
  },
  {
   "cell_type": "code",
   "execution_count": 33,
   "metadata": {},
   "outputs": [
    {
     "data": {
      "text/plain": [
       "6034    0\n",
       "2813    1\n",
       "2759    1\n",
       "8722    0\n",
       "7218    0\n",
       "       ..\n",
       "9496    0\n",
       "3872    1\n",
       "1672    1\n",
       "4610    1\n",
       "4929    1\n",
       "Name: Class, Length: 2005, dtype: int32"
      ]
     },
     "execution_count": 33,
     "metadata": {},
     "output_type": "execute_result"
    }
   ],
   "source": [
    "y_test"
   ]
  },
  {
   "cell_type": "code",
   "execution_count": 34,
   "metadata": {},
   "outputs": [
    {
     "data": {
      "image/png": "[encoded data removed]",
      "text/plain": [
       "<Figure size 800x600 with 2 Axes>"
      ]
     },
     "metadata": {},
     "output_type": "display_data"
    }
   ],
   "source": [
    "\n",
    "# Tính confusion matrix\n",
    "cm = confusion_matrix(y_test, y_pred)\n",
    "\n",
    "\n",
    "# Lấy các nhãn duy nhất từ y_true và y_pred để biết số lượng lớp\n",
    "labels = np.unique(y_test)\n",
    "\n",
    "# Chuẩn bị vẽ confusion matrix\n",
    "plt.figure(figsize=(8, 6))\n",
    "sns.heatmap(cm, annot=True, fmt='d', cmap='Oranges', xticklabels=labels, yticklabels=labels)\n",
    "plt.title('Confusion Matrix_Decision Tree')\n",
    "plt.ylabel('Actual Class')\n",
    "plt.xlabel('Predicted Class')\n",
    "plt.show()\n"
   ]
  },
  {
   "cell_type": "code",
   "execution_count": 35,
   "metadata": {},
   "outputs": [
    {
     "data": {
      "text/plain": [
       "array([3.31695848e-03, 3.67942373e-03, 3.35570470e-03, 1.21217631e-04,\n",
       "       1.29880250e-05, 2.00000000e-01, 1.66666667e-01, 1.25000000e-01,\n",
       "       5.00000000e-01, 4.89795918e-01, 5.12552301e-01, 5.13626834e-01,\n",
       "       2.33702337e-02, 3.37500000e-01, 4.00000000e-01, 6.38297872e-02,\n",
       "       3.68421053e-01, 2.10526316e-02, 3.33333333e-01, 1.66389351e-03,\n",
       "       3.22580645e-02, 2.94117647e-02, 2.56410256e-02, 1.42857143e-01,\n",
       "       2.22222222e-01, 6.66666667e-02, 1.66666667e-01, 2.50000000e-01,\n",
       "       5.55555556e-02, 1.66666667e-01, 1.75963400e-04])"
      ]
     },
     "execution_count": 35,
     "metadata": {},
     "output_type": "execute_result"
    }
   ],
   "source": [
    "X_test[0]"
   ]
  },
  {
   "cell_type": "code",
   "execution_count": 36,
   "metadata": {},
   "outputs": [
    {
     "data": {
      "text/plain": [
       "array([[3.31695848e-03, 3.67942373e-03, 3.35570470e-03, 1.21217631e-04,\n",
       "        1.29880250e-05, 2.00000000e-01, 1.66666667e-01, 1.25000000e-01,\n",
       "        5.00000000e-01, 4.89795918e-01, 5.12552301e-01, 5.13626834e-01,\n",
       "        2.33702337e-02, 3.37500000e-01, 4.00000000e-01, 6.38297872e-02,\n",
       "        3.68421053e-01, 2.10526316e-02, 3.33333333e-01, 1.66389351e-03,\n",
       "        3.22580645e-02, 2.94117647e-02, 2.56410256e-02, 1.42857143e-01,\n",
       "        2.22222222e-01, 6.66666667e-02, 1.66666667e-01, 2.50000000e-01,\n",
       "        5.55555556e-02, 1.66666667e-01, 1.75963400e-04]])"
      ]
     },
     "execution_count": 36,
     "metadata": {},
     "output_type": "execute_result"
    }
   ],
   "source": [
    "X_test[0].reshape(1, -1)"
   ]
  },
  {
   "cell_type": "code",
   "execution_count": 37,
   "metadata": {},
   "outputs": [
    {
     "data": {
      "text/plain": [
       "array([1])"
      ]
     },
     "execution_count": 37,
     "metadata": {},
     "output_type": "execute_result"
    }
   ],
   "source": [
    "model.predict(X_test[-2].reshape(1, -1))"
   ]
  },
  {
   "cell_type": "code",
   "execution_count": 38,
   "metadata": {},
   "outputs": [
    {
     "data": {
      "text/plain": [
       "6034    0\n",
       "2813    1\n",
       "2759    1\n",
       "8722    0\n",
       "7218    0\n",
       "       ..\n",
       "9496    0\n",
       "3872    1\n",
       "1672    1\n",
       "4610    1\n",
       "4929    1\n",
       "Name: Class, Length: 2005, dtype: int32"
      ]
     },
     "execution_count": 38,
     "metadata": {},
     "output_type": "execute_result"
    }
   ],
   "source": [
    "y_test"
   ]
  },
  {
   "cell_type": "code",
   "execution_count": null,
   "metadata": {},
   "outputs": [],
   "source": []
  }
 ],
 "metadata": {
  "colab": {
   "collapsed_sections": [],
   "provenance": []
  },
  "kernelspec": {
   "display_name": "Python 3 (ipykernel)",
   "language": "python",
   "name": "python3"
  },
  "language_info": {
   "codemirror_mode": {
    "name": "ipython",
    "version": 3
   },
   "file_extension": ".py",
   "mimetype": "text/x-python",
   "name": "python",
   "nbconvert_exporter": "python",
   "pygments_lexer": "ipython3",
   "version": "3.12.2"
  }
 },
 "nbformat": 4,
 "nbformat_minor": 4
}
