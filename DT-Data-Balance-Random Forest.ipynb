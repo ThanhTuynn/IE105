{
 "cells": [
  {
   "cell_type": "code",
<<<<<<< HEAD
   "execution_count": 2,
=======
   "execution_count": 3,
>>>>>>> baa965774bbc78241c80f9107209665e54002ea9
   "metadata": {
    "colab": {
     "base_uri": "https://localhost:8080/"
    },
    "executionInfo": {
     "elapsed": 30999,
     "status": "ok",
     "timestamp": 1665727836956,
     "user": {
      "displayName": "Novi Yuningsih",
      "userId": "08645790852716760917"
     },
     "user_tz": -420
    },
    "id": "pqpv-u_U63Ci",
    "outputId": "8ff881bf-6453-4cff-c82e-8952c89ff203"
   },
   "outputs": [],
   "source": [
    "import numpy as np\n",
    "import pandas as pd\n",
    "from imblearn.over_sampling import RandomOverSampler\n",
    "import matplotlib.pyplot as plt\n",
    "import seaborn as sns\n",
    "from sklearn.metrics import confusion_matrix\n"
   ]
  },
  {
   "cell_type": "markdown",
   "metadata": {
    "id": "VmopCvUjWuY-"
   },
   "source": [
    "**Import** **Dataset**"
   ]
  },
  {
   "cell_type": "code",
<<<<<<< HEAD
   "execution_count": 3,
=======
   "execution_count": 4,
>>>>>>> baa965774bbc78241c80f9107209665e54002ea9
   "metadata": {
    "executionInfo": {
     "elapsed": 1291,
     "status": "ok",
     "timestamp": 1665727877156,
     "user": {
      "displayName": "Novi Yuningsih",
      "userId": "08645790852716760917"
     },
     "user_tz": -420
    },
    "id": "4liATPBh7GxM"
   },
   "outputs": [
    {
     "data": {
      "text/html": [
       "<div>\n",
       "<style scoped>\n",
       "    .dataframe tbody tr th:only-of-type {\n",
       "        vertical-align: middle;\n",
       "    }\n",
       "\n",
       "    .dataframe tbody tr th {\n",
       "        vertical-align: top;\n",
       "    }\n",
       "\n",
       "    .dataframe thead th {\n",
       "        text-align: right;\n",
       "    }\n",
       "</style>\n",
       "<table border=\"1\" class=\"dataframe\">\n",
       "  <thead>\n",
       "    <tr style=\"text-align: right;\">\n",
       "      <th></th>\n",
       "      <th>pdfsize</th>\n",
       "      <th>metadata size</th>\n",
       "      <th>pages</th>\n",
       "      <th>xref Length</th>\n",
       "      <th>title characters</th>\n",
       "      <th>isEncrypted</th>\n",
       "      <th>embedded files</th>\n",
       "      <th>images</th>\n",
       "      <th>text</th>\n",
       "      <th>header</th>\n",
       "      <th>...</th>\n",
       "      <th>AA</th>\n",
       "      <th>OpenAction</th>\n",
       "      <th>Acroform</th>\n",
       "      <th>JBIG2Decode</th>\n",
       "      <th>RichMedia</th>\n",
       "      <th>launch</th>\n",
       "      <th>EmbeddedFile</th>\n",
       "      <th>XFA</th>\n",
       "      <th>Colors</th>\n",
       "      <th>Class</th>\n",
       "    </tr>\n",
       "  </thead>\n",
       "  <tbody>\n",
       "    <tr>\n",
       "      <th>0</th>\n",
       "      <td>8.0</td>\n",
       "      <td>180.0</td>\n",
       "      <td>1.0</td>\n",
       "      <td>11.0</td>\n",
       "      <td>0.0</td>\n",
       "      <td>0.0</td>\n",
       "      <td>0.0</td>\n",
       "      <td>0</td>\n",
       "      <td>No</td>\n",
       "      <td>\\t%PDF-1.3</td>\n",
       "      <td>...</td>\n",
       "      <td>0</td>\n",
       "      <td>1</td>\n",
       "      <td>0</td>\n",
       "      <td>0</td>\n",
       "      <td>0</td>\n",
       "      <td>0</td>\n",
       "      <td>0</td>\n",
       "      <td>0</td>\n",
       "      <td>0.0</td>\n",
       "      <td>Malicious</td>\n",
       "    </tr>\n",
       "    <tr>\n",
       "      <th>1</th>\n",
       "      <td>15.0</td>\n",
       "      <td>224.0</td>\n",
       "      <td>0.0</td>\n",
       "      <td>20.0</td>\n",
       "      <td>7.0</td>\n",
       "      <td>0.0</td>\n",
       "      <td>0.0</td>\n",
       "      <td>0</td>\n",
       "      <td>No</td>\n",
       "      <td>\\t%PDF-1.6</td>\n",
       "      <td>...</td>\n",
       "      <td>0</td>\n",
       "      <td>0</td>\n",
       "      <td>1</td>\n",
       "      <td>0</td>\n",
       "      <td>0</td>\n",
       "      <td>0</td>\n",
       "      <td>8</td>\n",
       "      <td>1</td>\n",
       "      <td>0.0</td>\n",
       "      <td>Malicious</td>\n",
       "    </tr>\n",
       "    <tr>\n",
       "      <th>2</th>\n",
       "      <td>4.0</td>\n",
       "      <td>468.0</td>\n",
       "      <td>2.0</td>\n",
       "      <td>13.0</td>\n",
       "      <td>16.0</td>\n",
       "      <td>0.0</td>\n",
       "      <td>0.0</td>\n",
       "      <td>0</td>\n",
       "      <td>Yes</td>\n",
       "      <td>\\t%PDF-1.3</td>\n",
       "      <td>...</td>\n",
       "      <td>0</td>\n",
       "      <td>1</td>\n",
       "      <td>0</td>\n",
       "      <td>0</td>\n",
       "      <td>0</td>\n",
       "      <td>0</td>\n",
       "      <td>0</td>\n",
       "      <td>0</td>\n",
       "      <td>0.0</td>\n",
       "      <td>Malicious</td>\n",
       "    </tr>\n",
       "    <tr>\n",
       "      <th>3</th>\n",
       "      <td>17.0</td>\n",
       "      <td>250.0</td>\n",
       "      <td>1.0</td>\n",
       "      <td>15.0</td>\n",
       "      <td>0.0</td>\n",
       "      <td>0.0</td>\n",
       "      <td>0.0</td>\n",
       "      <td>0</td>\n",
       "      <td>No</td>\n",
       "      <td>\\t%PDF-1.3</td>\n",
       "      <td>...</td>\n",
       "      <td>0</td>\n",
       "      <td>1</td>\n",
       "      <td>1</td>\n",
       "      <td>0</td>\n",
       "      <td>0</td>\n",
       "      <td>0</td>\n",
       "      <td>0</td>\n",
       "      <td>0</td>\n",
       "      <td>0.0</td>\n",
       "      <td>Malicious</td>\n",
       "    </tr>\n",
       "    <tr>\n",
       "      <th>4</th>\n",
       "      <td>7.0</td>\n",
       "      <td>252.0</td>\n",
       "      <td>3.0</td>\n",
       "      <td>16.0</td>\n",
       "      <td>45.0</td>\n",
       "      <td>0.0</td>\n",
       "      <td>0.0</td>\n",
       "      <td>0</td>\n",
       "      <td>Yes</td>\n",
       "      <td>\\t%PDF-1.3</td>\n",
       "      <td>...</td>\n",
       "      <td>0</td>\n",
       "      <td>1</td>\n",
       "      <td>0</td>\n",
       "      <td>0</td>\n",
       "      <td>0</td>\n",
       "      <td>0</td>\n",
       "      <td>0</td>\n",
       "      <td>0</td>\n",
       "      <td>0.0</td>\n",
       "      <td>Malicious</td>\n",
       "    </tr>\n",
       "    <tr>\n",
       "      <th>...</th>\n",
       "      <td>...</td>\n",
       "      <td>...</td>\n",
       "      <td>...</td>\n",
       "      <td>...</td>\n",
       "      <td>...</td>\n",
       "      <td>...</td>\n",
       "      <td>...</td>\n",
       "      <td>...</td>\n",
       "      <td>...</td>\n",
       "      <td>...</td>\n",
       "      <td>...</td>\n",
       "      <td>...</td>\n",
       "      <td>...</td>\n",
       "      <td>...</td>\n",
       "      <td>...</td>\n",
       "      <td>...</td>\n",
       "      <td>...</td>\n",
       "      <td>...</td>\n",
       "      <td>...</td>\n",
       "      <td>...</td>\n",
       "      <td>...</td>\n",
       "    </tr>\n",
       "    <tr>\n",
       "      <th>10021</th>\n",
       "      <td>529.0</td>\n",
       "      <td>296.0</td>\n",
       "      <td>1.0</td>\n",
       "      <td>87.0</td>\n",
       "      <td>8.0</td>\n",
       "      <td>0.0</td>\n",
       "      <td>0.0</td>\n",
       "      <td>3</td>\n",
       "      <td>No</td>\n",
       "      <td>\\t%PDF-1.3</td>\n",
       "      <td>...</td>\n",
       "      <td>0</td>\n",
       "      <td>1</td>\n",
       "      <td>0</td>\n",
       "      <td>0</td>\n",
       "      <td>0</td>\n",
       "      <td>0</td>\n",
       "      <td>0</td>\n",
       "      <td>0</td>\n",
       "      <td>0.0</td>\n",
       "      <td>Malicious</td>\n",
       "    </tr>\n",
       "    <tr>\n",
       "      <th>10022</th>\n",
       "      <td>73.0</td>\n",
       "      <td>314.0</td>\n",
       "      <td>1.0</td>\n",
       "      <td>16.0</td>\n",
       "      <td>3.0</td>\n",
       "      <td>0.0</td>\n",
       "      <td>0.0</td>\n",
       "      <td>-1</td>\n",
       "      <td>unclear</td>\n",
       "      <td>\\t%PDF-\\x07.3</td>\n",
       "      <td>...</td>\n",
       "      <td>0</td>\n",
       "      <td>1</td>\n",
       "      <td>0</td>\n",
       "      <td>0</td>\n",
       "      <td>0</td>\n",
       "      <td>0</td>\n",
       "      <td>0</td>\n",
       "      <td>0</td>\n",
       "      <td>0.0</td>\n",
       "      <td>Malicious</td>\n",
       "    </tr>\n",
       "    <tr>\n",
       "      <th>10023</th>\n",
       "      <td>4.0</td>\n",
       "      <td>377.0</td>\n",
       "      <td>2.0</td>\n",
       "      <td>13.0</td>\n",
       "      <td>11.0</td>\n",
       "      <td>0.0</td>\n",
       "      <td>0.0</td>\n",
       "      <td>0</td>\n",
       "      <td>Yes</td>\n",
       "      <td>\\t%PDF-1.3</td>\n",
       "      <td>...</td>\n",
       "      <td>0</td>\n",
       "      <td>1</td>\n",
       "      <td>0</td>\n",
       "      <td>0</td>\n",
       "      <td>0</td>\n",
       "      <td>0</td>\n",
       "      <td>0</td>\n",
       "      <td>0</td>\n",
       "      <td>0.0</td>\n",
       "      <td>Malicious</td>\n",
       "    </tr>\n",
       "    <tr>\n",
       "      <th>10024</th>\n",
       "      <td>38.0</td>\n",
       "      <td>338.0</td>\n",
       "      <td>1.0</td>\n",
       "      <td>200006.0</td>\n",
       "      <td>13.0</td>\n",
       "      <td>0.0</td>\n",
       "      <td>0.0</td>\n",
       "      <td>0</td>\n",
       "      <td>Yes</td>\n",
       "      <td>\\t%PDF-1.3</td>\n",
       "      <td>...</td>\n",
       "      <td>0</td>\n",
       "      <td>1</td>\n",
       "      <td>0</td>\n",
       "      <td>0</td>\n",
       "      <td>0</td>\n",
       "      <td>0</td>\n",
       "      <td>0</td>\n",
       "      <td>0</td>\n",
       "      <td>0.0</td>\n",
       "      <td>Malicious</td>\n",
       "    </tr>\n",
       "    <tr>\n",
       "      <th>10025</th>\n",
       "      <td>2.0</td>\n",
       "      <td>180.0</td>\n",
       "      <td>1.0</td>\n",
       "      <td>11.0</td>\n",
       "      <td>0.0</td>\n",
       "      <td>0.0</td>\n",
       "      <td>1.0</td>\n",
       "      <td>0</td>\n",
       "      <td>Yes</td>\n",
       "      <td>\\t%PDF-1.6</td>\n",
       "      <td>...</td>\n",
       "      <td>23</td>\n",
       "      <td>0</td>\n",
       "      <td>0</td>\n",
       "      <td>0</td>\n",
       "      <td>0</td>\n",
       "      <td>0</td>\n",
       "      <td>0</td>\n",
       "      <td>0</td>\n",
       "      <td>0.0</td>\n",
       "      <td>Malicious</td>\n",
       "    </tr>\n",
       "  </tbody>\n",
       "</table>\n",
       "<p>10026 rows × 32 columns</p>\n",
       "</div>"
      ],
      "text/plain": [
       "       pdfsize  metadata size  pages  xref Length  title characters  \\\n",
       "0          8.0          180.0    1.0         11.0               0.0   \n",
       "1         15.0          224.0    0.0         20.0               7.0   \n",
       "2          4.0          468.0    2.0         13.0              16.0   \n",
       "3         17.0          250.0    1.0         15.0               0.0   \n",
       "4          7.0          252.0    3.0         16.0              45.0   \n",
       "...        ...            ...    ...          ...               ...   \n",
       "10021    529.0          296.0    1.0         87.0               8.0   \n",
       "10022     73.0          314.0    1.0         16.0               3.0   \n",
       "10023      4.0          377.0    2.0         13.0              11.0   \n",
       "10024     38.0          338.0    1.0     200006.0              13.0   \n",
       "10025      2.0          180.0    1.0         11.0               0.0   \n",
       "\n",
       "       isEncrypted  embedded files images     text         header  ...  AA  \\\n",
       "0              0.0             0.0      0       No     \\t%PDF-1.3  ...   0   \n",
       "1              0.0             0.0      0       No     \\t%PDF-1.6  ...   0   \n",
       "2              0.0             0.0      0      Yes     \\t%PDF-1.3  ...   0   \n",
       "3              0.0             0.0      0       No     \\t%PDF-1.3  ...   0   \n",
       "4              0.0             0.0      0      Yes     \\t%PDF-1.3  ...   0   \n",
       "...            ...             ...    ...      ...            ...  ...  ..   \n",
       "10021          0.0             0.0      3       No     \\t%PDF-1.3  ...   0   \n",
       "10022          0.0             0.0     -1  unclear  \\t%PDF-\\x07.3  ...   0   \n",
       "10023          0.0             0.0      0      Yes     \\t%PDF-1.3  ...   0   \n",
       "10024          0.0             0.0      0      Yes     \\t%PDF-1.3  ...   0   \n",
       "10025          0.0             1.0      0      Yes     \\t%PDF-1.6  ...  23   \n",
       "\n",
       "      OpenAction  Acroform JBIG2Decode RichMedia  launch EmbeddedFile XFA  \\\n",
       "0              1         0           0         0       0            0   0   \n",
       "1              0         1           0         0       0            8   1   \n",
       "2              1         0           0         0       0            0   0   \n",
       "3              1         1           0         0       0            0   0   \n",
       "4              1         0           0         0       0            0   0   \n",
       "...          ...       ...         ...       ...     ...          ...  ..   \n",
       "10021          1         0           0         0       0            0   0   \n",
       "10022          1         0           0         0       0            0   0   \n",
       "10023          1         0           0         0       0            0   0   \n",
       "10024          1         0           0         0       0            0   0   \n",
       "10025          0         0           0         0       0            0   0   \n",
       "\n",
       "       Colors      Class  \n",
       "0         0.0  Malicious  \n",
       "1         0.0  Malicious  \n",
       "2         0.0  Malicious  \n",
       "3         0.0  Malicious  \n",
       "4         0.0  Malicious  \n",
       "...       ...        ...  \n",
       "10021     0.0  Malicious  \n",
       "10022     0.0  Malicious  \n",
       "10023     0.0  Malicious  \n",
       "10024     0.0  Malicious  \n",
       "10025     0.0  Malicious  \n",
       "\n",
       "[10026 rows x 32 columns]"
      ]
     },
<<<<<<< HEAD
     "execution_count": 3,
=======
     "execution_count": 4,
>>>>>>> baa965774bbc78241c80f9107209665e54002ea9
     "metadata": {},
     "output_type": "execute_result"
    }
   ],
   "source": [
    "dataset = pd.read_csv('PDFMalware2022.csv')\n",
    "# Xoá cột fine name, inplace = True dùng để gán trực tiếp lại cho biến data không cần sử dụng toán tử gán\n",
    "# axis=1 thể hiện thực hiện trên cột, axis=0 thực hiện trên dòng\n",
    "dataset.drop([\"Fine name\"], axis=1, inplace=True)\n",
    "\n",
    "dataset"
   ]
  },
  {
   "cell_type": "markdown",
   "metadata": {},
   "source": [
    "**Đếm thuộc tính \"Malicious\" trên \"Class\"**"
   ]
  },
  {
   "cell_type": "code",
<<<<<<< HEAD
   "execution_count": 4,
=======
   "execution_count": 5,
>>>>>>> baa965774bbc78241c80f9107209665e54002ea9
   "metadata": {},
   "outputs": [
    {
     "data": {
      "text/plain": [
       "5557"
      ]
     },
<<<<<<< HEAD
     "execution_count": 4,
=======
     "execution_count": 5,
>>>>>>> baa965774bbc78241c80f9107209665e54002ea9
     "metadata": {},
     "output_type": "execute_result"
    }
   ],
   "source": [
    "b = dataset['Class']\n",
    "malicious_count = b[b == 'Malicious'].count()\n",
    "malicious_count"
   ]
  },
  {
   "cell_type": "code",
<<<<<<< HEAD
   "execution_count": 5,
=======
   "execution_count": 6,
>>>>>>> baa965774bbc78241c80f9107209665e54002ea9
   "metadata": {},
   "outputs": [
    {
     "data": {
      "text/plain": [
       "pdfsize             float64\n",
       "metadata size       float64\n",
       "pages               float64\n",
       "xref Length         float64\n",
       "title characters    float64\n",
       "isEncrypted         float64\n",
       "embedded files      float64\n",
       "images               object\n",
       "text                 object\n",
       "header               object\n",
       "obj                  object\n",
       "endobj               object\n",
       "stream              float64\n",
       "endstream            object\n",
       "xref                 object\n",
       "trailer             float64\n",
       "startxref            object\n",
       "pageno               object\n",
       "encrypt             float64\n",
       "ObjStm              float64\n",
       "JS                   object\n",
       "Javascript           object\n",
       "AA                   object\n",
       "OpenAction           object\n",
       "Acroform             object\n",
       "JBIG2Decode          object\n",
       "RichMedia            object\n",
       "launch               object\n",
       "EmbeddedFile         object\n",
       "XFA                  object\n",
       "Colors              float64\n",
       "Class                object\n",
       "dtype: object"
      ]
     },
<<<<<<< HEAD
     "execution_count": 5,
=======
     "execution_count": 6,
>>>>>>> baa965774bbc78241c80f9107209665e54002ea9
     "metadata": {},
     "output_type": "execute_result"
    }
   ],
   "source": [
    "dataset.dtypes"
   ]
  },
  {
   "cell_type": "markdown",
   "metadata": {
    "id": "1st-SKp6W0WY"
   },
   "source": [
    "**Preproccessing**"
   ]
  },
  {
   "cell_type": "code",
<<<<<<< HEAD
   "execution_count": 6,
=======
   "execution_count": 7,
>>>>>>> baa965774bbc78241c80f9107209665e54002ea9
   "metadata": {},
   "outputs": [],
   "source": [
    "# Input vào model chỉ có số, mà trong data ở trên có những cột có cả text (những cột này python định nghĩa dạng dữ liệu object, vì vậy cần chuyển về dạng dữ liệu số)\n",
    "# Ordinal encoder thực hiện việc chuyển đổi data từ dạng khác (object, string,...) về dạng số. Ví dụ [\"text1\", \"hi\", \"an com chua\", \"helu\"] -> [0, 1, 2, 3]\n",
    "\n",
    "# Import thư viện, hàm Ordinal Encoder\n",
    "from sklearn.preprocessing import OrdinalEncoder\n",
    "\n",
    "# Lọc ra những cột có thuộc tính là object từ dataframe (dataframe là cái biến dataset á), sau đó gán mảng chứa tên các thuộc tính là object vào biến tên là \"object columns\"\n",
    "# Từ cell dataset.dtypes phía trên thì có thể thấy được chỉ có object và float, vì vậy không cần lo là nó có các dạng khác như string\n",
    "# Thật ra object là dạng dữ liệu tổng quát nhất của python, nên trong object cũng có string rồi\n",
    "object_columns = dataset.select_dtypes(include=['object']).columns"
   ]
  },
  {
   "cell_type": "code",
<<<<<<< HEAD
   "execution_count": 7,
=======
   "execution_count": 8,
>>>>>>> baa965774bbc78241c80f9107209665e54002ea9
   "metadata": {},
   "outputs": [
    {
     "data": {
      "text/html": [
       "<div>\n",
       "<style scoped>\n",
       "    .dataframe tbody tr th:only-of-type {\n",
       "        vertical-align: middle;\n",
       "    }\n",
       "\n",
       "    .dataframe tbody tr th {\n",
       "        vertical-align: top;\n",
       "    }\n",
       "\n",
       "    .dataframe thead th {\n",
       "        text-align: right;\n",
       "    }\n",
       "</style>\n",
       "<table border=\"1\" class=\"dataframe\">\n",
       "  <thead>\n",
       "    <tr style=\"text-align: right;\">\n",
       "      <th></th>\n",
       "      <th>images</th>\n",
       "      <th>text</th>\n",
       "      <th>header</th>\n",
       "      <th>obj</th>\n",
       "      <th>endobj</th>\n",
       "      <th>endstream</th>\n",
       "      <th>xref</th>\n",
       "      <th>startxref</th>\n",
       "      <th>pageno</th>\n",
       "      <th>JS</th>\n",
       "      <th>Javascript</th>\n",
       "      <th>AA</th>\n",
       "      <th>OpenAction</th>\n",
       "      <th>Acroform</th>\n",
       "      <th>JBIG2Decode</th>\n",
       "      <th>RichMedia</th>\n",
       "      <th>launch</th>\n",
       "      <th>EmbeddedFile</th>\n",
       "      <th>XFA</th>\n",
       "      <th>Class</th>\n",
       "    </tr>\n",
       "  </thead>\n",
       "  <tbody>\n",
       "    <tr>\n",
       "      <th>0</th>\n",
       "      <td>0</td>\n",
       "      <td>No</td>\n",
       "      <td>\\t%PDF-1.3</td>\n",
       "      <td>10</td>\n",
       "      <td>10</td>\n",
       "      <td>3</td>\n",
       "      <td>1</td>\n",
       "      <td>1</td>\n",
       "      <td>1</td>\n",
       "      <td>1</td>\n",
       "      <td>1</td>\n",
       "      <td>0</td>\n",
       "      <td>1</td>\n",
       "      <td>0</td>\n",
       "      <td>0</td>\n",
       "      <td>0</td>\n",
       "      <td>0</td>\n",
       "      <td>0</td>\n",
       "      <td>0</td>\n",
       "      <td>Malicious</td>\n",
       "    </tr>\n",
       "    <tr>\n",
       "      <th>1</th>\n",
       "      <td>0</td>\n",
       "      <td>No</td>\n",
       "      <td>\\t%PDF-1.6</td>\n",
       "      <td>19</td>\n",
       "      <td>19</td>\n",
       "      <td>9</td>\n",
       "      <td>1</td>\n",
       "      <td>1</td>\n",
       "      <td>1</td>\n",
       "      <td>0</td>\n",
       "      <td>0</td>\n",
       "      <td>0</td>\n",
       "      <td>0</td>\n",
       "      <td>1</td>\n",
       "      <td>0</td>\n",
       "      <td>0</td>\n",
       "      <td>0</td>\n",
       "      <td>8</td>\n",
       "      <td>1</td>\n",
       "      <td>Malicious</td>\n",
       "    </tr>\n",
       "    <tr>\n",
       "      <th>2</th>\n",
       "      <td>0</td>\n",
       "      <td>Yes</td>\n",
       "      <td>\\t%PDF-1.3</td>\n",
       "      <td>12</td>\n",
       "      <td>12</td>\n",
       "      <td>3</td>\n",
       "      <td>1</td>\n",
       "      <td>1</td>\n",
       "      <td>2</td>\n",
       "      <td>1</td>\n",
       "      <td>2</td>\n",
       "      <td>0</td>\n",
       "      <td>1</td>\n",
       "      <td>0</td>\n",
       "      <td>0</td>\n",
       "      <td>0</td>\n",
       "      <td>0</td>\n",
       "      <td>0</td>\n",
       "      <td>0</td>\n",
       "      <td>Malicious</td>\n",
       "    </tr>\n",
       "    <tr>\n",
       "      <th>3</th>\n",
       "      <td>0</td>\n",
       "      <td>No</td>\n",
       "      <td>\\t%PDF-1.3</td>\n",
       "      <td>14</td>\n",
       "      <td>14</td>\n",
       "      <td>2</td>\n",
       "      <td>1</td>\n",
       "      <td>1</td>\n",
       "      <td>1</td>\n",
       "      <td>2</td>\n",
       "      <td>3</td>\n",
       "      <td>0</td>\n",
       "      <td>1</td>\n",
       "      <td>1</td>\n",
       "      <td>0</td>\n",
       "      <td>0</td>\n",
       "      <td>0</td>\n",
       "      <td>0</td>\n",
       "      <td>0</td>\n",
       "      <td>Malicious</td>\n",
       "    </tr>\n",
       "    <tr>\n",
       "      <th>4</th>\n",
       "      <td>0</td>\n",
       "      <td>Yes</td>\n",
       "      <td>\\t%PDF-1.3</td>\n",
       "      <td>15</td>\n",
       "      <td>15</td>\n",
       "      <td>4</td>\n",
       "      <td>1</td>\n",
       "      <td>1</td>\n",
       "      <td>3</td>\n",
       "      <td>1</td>\n",
       "      <td>2</td>\n",
       "      <td>0</td>\n",
       "      <td>1</td>\n",
       "      <td>0</td>\n",
       "      <td>0</td>\n",
       "      <td>0</td>\n",
       "      <td>0</td>\n",
       "      <td>0</td>\n",
       "      <td>0</td>\n",
       "      <td>Malicious</td>\n",
       "    </tr>\n",
       "    <tr>\n",
       "      <th>...</th>\n",
       "      <td>...</td>\n",
       "      <td>...</td>\n",
       "      <td>...</td>\n",
       "      <td>...</td>\n",
       "      <td>...</td>\n",
       "      <td>...</td>\n",
       "      <td>...</td>\n",
       "      <td>...</td>\n",
       "      <td>...</td>\n",
       "      <td>...</td>\n",
       "      <td>...</td>\n",
       "      <td>...</td>\n",
       "      <td>...</td>\n",
       "      <td>...</td>\n",
       "      <td>...</td>\n",
       "      <td>...</td>\n",
       "      <td>...</td>\n",
       "      <td>...</td>\n",
       "      <td>...</td>\n",
       "      <td>...</td>\n",
       "    </tr>\n",
       "    <tr>\n",
       "      <th>10021</th>\n",
       "      <td>3</td>\n",
       "      <td>No</td>\n",
       "      <td>\\t%PDF-1.3</td>\n",
       "      <td>9</td>\n",
       "      <td>9</td>\n",
       "      <td>3</td>\n",
       "      <td>1</td>\n",
       "      <td>1</td>\n",
       "      <td>1</td>\n",
       "      <td>1</td>\n",
       "      <td>1</td>\n",
       "      <td>0</td>\n",
       "      <td>1</td>\n",
       "      <td>0</td>\n",
       "      <td>0</td>\n",
       "      <td>0</td>\n",
       "      <td>0</td>\n",
       "      <td>0</td>\n",
       "      <td>0</td>\n",
       "      <td>Malicious</td>\n",
       "    </tr>\n",
       "    <tr>\n",
       "      <th>10022</th>\n",
       "      <td>-1</td>\n",
       "      <td>unclear</td>\n",
       "      <td>\\t%PDF-\\x07.3</td>\n",
       "      <td>8</td>\n",
       "      <td>7</td>\n",
       "      <td>2</td>\n",
       "      <td>1</td>\n",
       "      <td>1</td>\n",
       "      <td>1</td>\n",
       "      <td>1(1)</td>\n",
       "      <td>1</td>\n",
       "      <td>0</td>\n",
       "      <td>1</td>\n",
       "      <td>0</td>\n",
       "      <td>0</td>\n",
       "      <td>0</td>\n",
       "      <td>0</td>\n",
       "      <td>0</td>\n",
       "      <td>0</td>\n",
       "      <td>Malicious</td>\n",
       "    </tr>\n",
       "    <tr>\n",
       "      <th>10023</th>\n",
       "      <td>0</td>\n",
       "      <td>Yes</td>\n",
       "      <td>\\t%PDF-1.3</td>\n",
       "      <td>8</td>\n",
       "      <td>8</td>\n",
       "      <td>2</td>\n",
       "      <td>1</td>\n",
       "      <td>1</td>\n",
       "      <td>1</td>\n",
       "      <td>1</td>\n",
       "      <td>1</td>\n",
       "      <td>0</td>\n",
       "      <td>1</td>\n",
       "      <td>0</td>\n",
       "      <td>0</td>\n",
       "      <td>0</td>\n",
       "      <td>0</td>\n",
       "      <td>0</td>\n",
       "      <td>0</td>\n",
       "      <td>Malicious</td>\n",
       "    </tr>\n",
       "    <tr>\n",
       "      <th>10024</th>\n",
       "      <td>0</td>\n",
       "      <td>Yes</td>\n",
       "      <td>\\t%PDF-1.3</td>\n",
       "      <td>9</td>\n",
       "      <td>9</td>\n",
       "      <td>3</td>\n",
       "      <td>1</td>\n",
       "      <td>1</td>\n",
       "      <td>1</td>\n",
       "      <td>1</td>\n",
       "      <td>1</td>\n",
       "      <td>0</td>\n",
       "      <td>1</td>\n",
       "      <td>0</td>\n",
       "      <td>0</td>\n",
       "      <td>0</td>\n",
       "      <td>0</td>\n",
       "      <td>0</td>\n",
       "      <td>0</td>\n",
       "      <td>Malicious</td>\n",
       "    </tr>\n",
       "    <tr>\n",
       "      <th>10025</th>\n",
       "      <td>0</td>\n",
       "      <td>Yes</td>\n",
       "      <td>\\t%PDF-1.6</td>\n",
       "      <td>299</td>\n",
       "      <td>299</td>\n",
       "      <td>62</td>\n",
       "      <td>46</td>\n",
       "      <td>24</td>\n",
       "      <td>23</td>\n",
       "      <td>149</td>\n",
       "      <td>149</td>\n",
       "      <td>23</td>\n",
       "      <td>0</td>\n",
       "      <td>0</td>\n",
       "      <td>0</td>\n",
       "      <td>0</td>\n",
       "      <td>0</td>\n",
       "      <td>0</td>\n",
       "      <td>0</td>\n",
       "      <td>Malicious</td>\n",
       "    </tr>\n",
       "  </tbody>\n",
       "</table>\n",
       "<p>10026 rows × 20 columns</p>\n",
       "</div>"
      ],
      "text/plain": [
       "      images     text         header  obj endobj endstream xref startxref  \\\n",
       "0          0       No     \\t%PDF-1.3   10     10         3    1         1   \n",
       "1          0       No     \\t%PDF-1.6   19     19         9    1         1   \n",
       "2          0      Yes     \\t%PDF-1.3   12     12         3    1         1   \n",
       "3          0       No     \\t%PDF-1.3   14     14         2    1         1   \n",
       "4          0      Yes     \\t%PDF-1.3   15     15         4    1         1   \n",
       "...      ...      ...            ...  ...    ...       ...  ...       ...   \n",
       "10021      3       No     \\t%PDF-1.3    9      9         3    1         1   \n",
       "10022     -1  unclear  \\t%PDF-\\x07.3    8      7         2    1         1   \n",
       "10023      0      Yes     \\t%PDF-1.3    8      8         2    1         1   \n",
       "10024      0      Yes     \\t%PDF-1.3    9      9         3    1         1   \n",
       "10025      0      Yes     \\t%PDF-1.6  299    299        62   46        24   \n",
       "\n",
       "      pageno    JS Javascript  AA OpenAction Acroform JBIG2Decode RichMedia  \\\n",
       "0          1     1          1   0          1        0           0         0   \n",
       "1          1     0          0   0          0        1           0         0   \n",
       "2          2     1          2   0          1        0           0         0   \n",
       "3          1     2          3   0          1        1           0         0   \n",
       "4          3     1          2   0          1        0           0         0   \n",
       "...      ...   ...        ...  ..        ...      ...         ...       ...   \n",
       "10021      1     1          1   0          1        0           0         0   \n",
       "10022      1  1(1)          1   0          1        0           0         0   \n",
       "10023      1     1          1   0          1        0           0         0   \n",
       "10024      1     1          1   0          1        0           0         0   \n",
       "10025     23   149        149  23          0        0           0         0   \n",
       "\n",
       "      launch EmbeddedFile XFA      Class  \n",
       "0          0            0   0  Malicious  \n",
       "1          0            8   1  Malicious  \n",
       "2          0            0   0  Malicious  \n",
       "3          0            0   0  Malicious  \n",
       "4          0            0   0  Malicious  \n",
       "...      ...          ...  ..        ...  \n",
       "10021      0            0   0  Malicious  \n",
       "10022      0            0   0  Malicious  \n",
       "10023      0            0   0  Malicious  \n",
       "10024      0            0   0  Malicious  \n",
       "10025      0            0   0  Malicious  \n",
       "\n",
       "[10026 rows x 20 columns]"
      ]
     },
<<<<<<< HEAD
     "execution_count": 7,
=======
     "execution_count": 8,
>>>>>>> baa965774bbc78241c80f9107209665e54002ea9
     "metadata": {},
     "output_type": "execute_result"
    }
   ],
   "source": [
    "dataset[object_columns]"
   ]
  },
  {
   "cell_type": "code",
<<<<<<< HEAD
   "execution_count": 8,
=======
   "execution_count": 9,
>>>>>>> baa965774bbc78241c80f9107209665e54002ea9
   "metadata": {
    "id": "xWmun4HlLTKN"
   },
   "outputs": [],
   "source": [
    "# Khai báo biến encoder \n",
    "encoder = OrdinalEncoder()\n",
    "\n",
    "# Tiến hành fit và transform các cột có dạng dữ liệu là object trong dataframe\n",
    "dataset[object_columns] = encoder.fit_transform(dataset[object_columns])\n",
    "\n",
    "# Có thể viết tách ra như sau\n",
    "# encoder.fit(dataset[object_columns])\n",
    "# dataset[object_columns] = encoder.transform(dataset[object_columns])"
   ]
  },
  {
   "cell_type": "code",
<<<<<<< HEAD
   "execution_count": 9,
=======
   "execution_count": 10,
>>>>>>> baa965774bbc78241c80f9107209665e54002ea9
   "metadata": {},
   "outputs": [
    {
     "data": {
      "text/plain": [
       "pdfsize             1\n",
       "metadata size       1\n",
       "pages               1\n",
       "xref Length         1\n",
       "title characters    1\n",
       "isEncrypted         1\n",
       "embedded files      1\n",
       "images              1\n",
       "text                1\n",
       "header              1\n",
       "obj                 3\n",
       "endobj              3\n",
       "stream              3\n",
       "endstream           3\n",
       "xref                3\n",
       "trailer             3\n",
       "startxref           3\n",
       "pageno              3\n",
       "encrypt             3\n",
       "ObjStm              3\n",
       "JS                  3\n",
       "Javascript          3\n",
       "AA                  3\n",
       "OpenAction          3\n",
       "Acroform            3\n",
       "JBIG2Decode         3\n",
       "RichMedia           3\n",
       "launch              3\n",
       "EmbeddedFile        3\n",
       "XFA                 3\n",
       "Colors              3\n",
       "Class               1\n",
       "dtype: int64"
      ]
     },
<<<<<<< HEAD
     "execution_count": 9,
=======
     "execution_count": 10,
>>>>>>> baa965774bbc78241c80f9107209665e54002ea9
     "metadata": {},
     "output_type": "execute_result"
    }
   ],
   "source": [
    "# Check số lượng dòng bị khuyết của mỗi cột\n",
    "# Giúp có cái nhìn tổng quan về phạm vi và mức độ của dữ liệu bị thiếu trong DataFrame\n",
    "dataset.isna().sum()"
   ]
  },
  {
   "cell_type": "code",
<<<<<<< HEAD
   "execution_count": 10,
=======
   "execution_count": 11,
>>>>>>> baa965774bbc78241c80f9107209665e54002ea9
   "metadata": {
    "colab": {
     "base_uri": "https://localhost:8080/",
     "height": 424
    },
    "executionInfo": {
     "elapsed": 652,
     "status": "ok",
     "timestamp": 1662302908576,
     "user": {
      "displayName": "Novi Yuningsih",
      "userId": "08645790852716760917"
     },
     "user_tz": -420
    },
    "id": "7QV2gYlsjRmB",
    "outputId": "94db205b-cb9a-409d-8024-893f2fe444b9"
   },
   "outputs": [
    {
     "data": {
      "text/plain": [
       "pdfsize             0\n",
       "metadata size       0\n",
       "pages               0\n",
       "xref Length         0\n",
       "title characters    0\n",
       "isEncrypted         0\n",
       "embedded files      0\n",
       "images              0\n",
       "text                0\n",
       "header              0\n",
       "obj                 0\n",
       "endobj              0\n",
       "stream              0\n",
       "endstream           0\n",
       "xref                0\n",
       "trailer             0\n",
       "startxref           0\n",
       "pageno              0\n",
       "encrypt             0\n",
       "ObjStm              0\n",
       "JS                  0\n",
       "Javascript          0\n",
       "AA                  0\n",
       "OpenAction          0\n",
       "Acroform            0\n",
       "JBIG2Decode         0\n",
       "RichMedia           0\n",
       "launch              0\n",
       "EmbeddedFile        0\n",
       "XFA                 0\n",
       "Colors              0\n",
       "Class               0\n",
       "dtype: int64"
      ]
     },
<<<<<<< HEAD
     "execution_count": 10,
=======
     "execution_count": 11,
>>>>>>> baa965774bbc78241c80f9107209665e54002ea9
     "metadata": {},
     "output_type": "execute_result"
    }
   ],
   "source": [
    "# Sau khi xử lí có vài giá trị khuyết, vì vậy bỏ những cột bị khuyết giá trị bằng câu lệnh sau\n",
    "# Làm như thế nào để check thì \n",
    "dataset.dropna(inplace=True)\n",
    "dataset.isna().sum()"
   ]
  },
  {
   "cell_type": "code",
<<<<<<< HEAD
   "execution_count": 11,
=======
   "execution_count": 12,
>>>>>>> baa965774bbc78241c80f9107209665e54002ea9
   "metadata": {
    "id": "pVEEzGB87fC-"
   },
   "outputs": [],
   "source": [
    "y = dataset['Class']\n",
    "X = dataset.drop(['Class'], axis =1)"
   ]
  },
  {
   "cell_type": "code",
<<<<<<< HEAD
   "execution_count": 12,
=======
   "execution_count": 13,
>>>>>>> baa965774bbc78241c80f9107209665e54002ea9
   "metadata": {
    "colab": {
     "base_uri": "https://localhost:8080/",
     "height": 424
    },
    "executionInfo": {
     "elapsed": 22,
     "status": "ok",
     "timestamp": 1662302913041,
     "user": {
      "displayName": "Novi Yuningsih",
      "userId": "08645790852716760917"
     },
     "user_tz": -420
    },
    "id": "D9LqJhrA7hLy",
    "outputId": "56b3173c-56be-4cbf-8c0a-8eab98d92e46"
   },
   "outputs": [],
   "source": [
    "# Chuyển dữ liệu về int\n",
    "# Vì đây là mô hình phân loại nên sẽ để hai biến độc lập, còn float thì máy có thể hiểu nó là hai biến liên tục\n",
    "# 1.0 đến 2.0 là liên tục nè, còn 1 với 2 là độc lập. Hoặc \"1\" với \"2\" (string) cũng là độc lập\n",
    "# Bước này làm cho chắc thoi\n",
    "y = y.astype(int)"
   ]
  },
  {
   "cell_type": "code",
<<<<<<< HEAD
   "execution_count": 13,
=======
   "execution_count": 14,
>>>>>>> baa965774bbc78241c80f9107209665e54002ea9
   "metadata": {
    "colab": {
     "base_uri": "https://localhost:8080/",
     "height": 347
    },
    "executionInfo": {
     "elapsed": 20,
     "status": "ok",
     "timestamp": 1662302922063,
     "user": {
      "displayName": "Novi Yuningsih",
      "userId": "08645790852716760917"
     },
     "user_tz": -420
    },
    "id": "ojBRVaE_7i4L",
    "outputId": "220243f2-4dbc-41f2-e872-4a3cbd3d2ac1"
   },
   "outputs": [
    {
     "name": "stdout",
     "output_type": "stream",
     "text": [
      "Class\n",
      "1.0    5555\n",
      "0.0    4468\n",
      "Name: count, dtype: int64\n"
     ]
    },
    {
     "data": {
      "image/png": "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",
      "text/plain": [
       "<Figure size 640x480 with 1 Axes>"
      ]
     },
     "metadata": {},
     "output_type": "display_data"
    }
   ],
   "source": [
    "# Vẽ biểu đồ số lượng nhãn của cột target, biểu đồ cột-bar chart\n",
    "\n",
    "c = pd.DataFrame(data=y)\n",
    "c.Class.value_counts().plot(kind='bar', title='Data Imbalance');\n",
    "print(dataset['Class'].value_counts())"
   ]
  },
  {
   "cell_type": "markdown",
   "metadata": {
    "id": "KXmvplKEYBRA"
   },
   "source": [
    "**SMOTE**\n",
    "(**Random** **Over** **Sampler**)"
   ]
  },
  {
   "cell_type": "code",
<<<<<<< HEAD
   "execution_count": 14,
=======
   "execution_count": 15,
>>>>>>> baa965774bbc78241c80f9107209665e54002ea9
   "metadata": {
    "id": "4lKuUs4E77mf"
   },
   "outputs": [],
   "source": [
    "# MinMax Scaler chuẩn hóa giá trị từ 0-1 => đồng nhất, dễ quản lý, cải thiện hiệu suất, máy đọc từ 0->1\n",
    "# Ngoài ra còn có StandardScaler chuẩn hoá giá trị về phạm vi -1, 1 (đôi lúc có thể ngoài xíu)\n",
    "# Khác nhau chỗ nào thì tìm hiểu, cũng dễ á\n",
    "\n",
    "from sklearn.preprocessing import MinMaxScaler\n",
    "mm = MinMaxScaler()\n",
    "# Đưa dữ liệu cho mô hình học\n",
    "mm.fit(X)\n",
    "\n",
    "# Chuyển đổi dữ liệu sau khi mô hình đã học\n",
    "X_mm = mm.transform(X)\n",
    "# X_mm =mm.fit_transform(X)"
   ]
  },
  {
   "cell_type": "markdown",
   "metadata": {},
   "source": [
    "Random Oversampling: Randomly duplicate examples in the minority class. (1: 900; 0: 100 -> 1: 900; 0: 900)\n",
    "\n",
    "Random Undersampling: Randomly delete examples in the majority class.(1: 900; 0: 100 -> 1: 100; 0: 100)"
   ]
  },
  {
   "cell_type": "code",
<<<<<<< HEAD
   "execution_count": 15,
=======
   "execution_count": 16,
>>>>>>> baa965774bbc78241c80f9107209665e54002ea9
   "metadata": {
    "id": "uCtnYVW179oP"
   },
   "outputs": [],
   "source": [
    "# Cân bằng dữ liệu, lấy duplicate mẫu trong class ít để cho nhiều lên bằng class còn lại\n",
    "\n",
    "OverSampler = RandomOverSampler(random_state=0, sampling_strategy='auto')\n",
    "X_resample, y_resample = OverSampler.fit_resample(X,y)"
   ]
  },
  {
   "cell_type": "code",
<<<<<<< HEAD
   "execution_count": 16,
=======
   "execution_count": 17,
>>>>>>> baa965774bbc78241c80f9107209665e54002ea9
   "metadata": {
    "colab": {
     "base_uri": "https://localhost:8080/"
    },
    "executionInfo": {
     "elapsed": 716,
     "status": "ok",
     "timestamp": 1662302938295,
     "user": {
      "displayName": "Novi Yuningsih",
      "userId": "08645790852716760917"
     },
     "user_tz": -420
    },
    "id": "RGse0S4P7_e8",
    "outputId": "38b3bca0-5682-447d-dbd6-41044584a8a8"
   },
   "outputs": [
    {
     "data": {
      "text/plain": [
       "array([[3.77881345e-04, 2.34498484e-03, 3.35570470e-03, ...,\n",
       "        5.55555556e-02, 1.66666667e-01, 1.75963400e-04],\n",
       "       [6.71789058e-04, 2.91503641e-03, 1.67785235e-03, ...,\n",
       "        9.44444444e-01, 3.33333333e-01, 1.75963400e-04],\n",
       "       [2.09934081e-04, 6.07623144e-03, 5.03355705e-03, ...,\n",
       "        5.55555556e-02, 1.66666667e-01, 1.75963400e-04],\n",
       "       ...,\n",
       "       [2.09934081e-04, 4.89726116e-03, 5.03355705e-03, ...,\n",
       "        5.55555556e-02, 1.66666667e-01, 1.75963400e-04],\n",
       "       [1.63748583e-03, 4.39198818e-03, 3.35570470e-03, ...,\n",
       "        5.55555556e-02, 1.66666667e-01, 1.75963400e-04],\n",
       "       [1.25960448e-04, 2.34498484e-03, 3.35570470e-03, ...,\n",
       "        5.55555556e-02, 1.66666667e-01, 1.75963400e-04]])"
      ]
     },
<<<<<<< HEAD
     "execution_count": 16,
=======
     "execution_count": 17,
>>>>>>> baa965774bbc78241c80f9107209665e54002ea9
     "metadata": {},
     "output_type": "execute_result"
    }
   ],
   "source": [
    "X_mm"
   ]
  },
  {
   "cell_type": "code",
<<<<<<< HEAD
   "execution_count": 17,
=======
   "execution_count": 18,
>>>>>>> baa965774bbc78241c80f9107209665e54002ea9
   "metadata": {
    "colab": {
     "base_uri": "https://localhost:8080/",
     "height": 424
    },
    "executionInfo": {
     "elapsed": 522,
     "status": "ok",
     "timestamp": 1662302941171,
     "user": {
      "displayName": "Novi Yuningsih",
      "userId": "08645790852716760917"
     },
     "user_tz": -420
    },
    "id": "E6ob9PdV8AfE",
    "outputId": "491ec0ab-ba24-4bb7-ff9b-dd1a197392fa"
   },
   "outputs": [
    {
     "data": {
      "text/html": [
       "<div>\n",
       "<style scoped>\n",
       "    .dataframe tbody tr th:only-of-type {\n",
       "        vertical-align: middle;\n",
       "    }\n",
       "\n",
       "    .dataframe tbody tr th {\n",
       "        vertical-align: top;\n",
       "    }\n",
       "\n",
       "    .dataframe thead th {\n",
       "        text-align: right;\n",
       "    }\n",
       "</style>\n",
       "<table border=\"1\" class=\"dataframe\">\n",
       "  <thead>\n",
       "    <tr style=\"text-align: right;\">\n",
       "      <th></th>\n",
       "      <th>pdfsize</th>\n",
       "      <th>metadata size</th>\n",
       "      <th>pages</th>\n",
       "      <th>xref Length</th>\n",
       "      <th>title characters</th>\n",
       "      <th>isEncrypted</th>\n",
       "      <th>embedded files</th>\n",
       "      <th>images</th>\n",
       "      <th>text</th>\n",
       "      <th>header</th>\n",
       "      <th>...</th>\n",
       "      <th>Javascript</th>\n",
       "      <th>AA</th>\n",
       "      <th>OpenAction</th>\n",
       "      <th>Acroform</th>\n",
       "      <th>JBIG2Decode</th>\n",
       "      <th>RichMedia</th>\n",
       "      <th>launch</th>\n",
       "      <th>EmbeddedFile</th>\n",
       "      <th>XFA</th>\n",
       "      <th>Colors</th>\n",
       "    </tr>\n",
       "  </thead>\n",
       "  <tbody>\n",
       "    <tr>\n",
       "      <th>0</th>\n",
       "      <td>0.000378</td>\n",
       "      <td>0.002345</td>\n",
       "      <td>0.003356</td>\n",
       "      <td>0.000045</td>\n",
       "      <td>0.000013</td>\n",
       "      <td>0.2</td>\n",
       "      <td>0.166667</td>\n",
       "      <td>0.011364</td>\n",
       "      <td>0.50</td>\n",
       "      <td>0.204082</td>\n",
       "      <td>...</td>\n",
       "      <td>0.058824</td>\n",
       "      <td>0.025641</td>\n",
       "      <td>0.285714</td>\n",
       "      <td>0.111111</td>\n",
       "      <td>0.066667</td>\n",
       "      <td>0.166667</td>\n",
       "      <td>0.25</td>\n",
       "      <td>0.055556</td>\n",
       "      <td>0.166667</td>\n",
       "      <td>0.000176</td>\n",
       "    </tr>\n",
       "    <tr>\n",
       "      <th>1</th>\n",
       "      <td>0.000672</td>\n",
       "      <td>0.002915</td>\n",
       "      <td>0.001678</td>\n",
       "      <td>0.000080</td>\n",
       "      <td>0.000104</td>\n",
       "      <td>0.2</td>\n",
       "      <td>0.166667</td>\n",
       "      <td>0.011364</td>\n",
       "      <td>0.50</td>\n",
       "      <td>0.428571</td>\n",
       "      <td>...</td>\n",
       "      <td>0.029412</td>\n",
       "      <td>0.025641</td>\n",
       "      <td>0.142857</td>\n",
       "      <td>0.222222</td>\n",
       "      <td>0.066667</td>\n",
       "      <td>0.166667</td>\n",
       "      <td>0.25</td>\n",
       "      <td>0.944444</td>\n",
       "      <td>0.333333</td>\n",
       "      <td>0.000176</td>\n",
       "    </tr>\n",
       "    <tr>\n",
       "      <th>2</th>\n",
       "      <td>0.000210</td>\n",
       "      <td>0.006076</td>\n",
       "      <td>0.005034</td>\n",
       "      <td>0.000053</td>\n",
       "      <td>0.000221</td>\n",
       "      <td>0.2</td>\n",
       "      <td>0.166667</td>\n",
       "      <td>0.011364</td>\n",
       "      <td>0.75</td>\n",
       "      <td>0.204082</td>\n",
       "      <td>...</td>\n",
       "      <td>0.323529</td>\n",
       "      <td>0.025641</td>\n",
       "      <td>0.285714</td>\n",
       "      <td>0.111111</td>\n",
       "      <td>0.066667</td>\n",
       "      <td>0.166667</td>\n",
       "      <td>0.25</td>\n",
       "      <td>0.055556</td>\n",
       "      <td>0.166667</td>\n",
       "      <td>0.000176</td>\n",
       "    </tr>\n",
       "    <tr>\n",
       "      <th>3</th>\n",
       "      <td>0.000756</td>\n",
       "      <td>0.003252</td>\n",
       "      <td>0.003356</td>\n",
       "      <td>0.000061</td>\n",
       "      <td>0.000013</td>\n",
       "      <td>0.2</td>\n",
       "      <td>0.166667</td>\n",
       "      <td>0.011364</td>\n",
       "      <td>0.50</td>\n",
       "      <td>0.204082</td>\n",
       "      <td>...</td>\n",
       "      <td>0.470588</td>\n",
       "      <td>0.025641</td>\n",
       "      <td>0.285714</td>\n",
       "      <td>0.222222</td>\n",
       "      <td>0.066667</td>\n",
       "      <td>0.166667</td>\n",
       "      <td>0.25</td>\n",
       "      <td>0.055556</td>\n",
       "      <td>0.166667</td>\n",
       "      <td>0.000176</td>\n",
       "    </tr>\n",
       "    <tr>\n",
       "      <th>4</th>\n",
       "      <td>0.000336</td>\n",
       "      <td>0.003278</td>\n",
       "      <td>0.006711</td>\n",
       "      <td>0.000064</td>\n",
       "      <td>0.000597</td>\n",
       "      <td>0.2</td>\n",
       "      <td>0.166667</td>\n",
       "      <td>0.011364</td>\n",
       "      <td>0.75</td>\n",
       "      <td>0.204082</td>\n",
       "      <td>...</td>\n",
       "      <td>0.323529</td>\n",
       "      <td>0.025641</td>\n",
       "      <td>0.285714</td>\n",
       "      <td>0.111111</td>\n",
       "      <td>0.066667</td>\n",
       "      <td>0.166667</td>\n",
       "      <td>0.25</td>\n",
       "      <td>0.055556</td>\n",
       "      <td>0.166667</td>\n",
       "      <td>0.000176</td>\n",
       "    </tr>\n",
       "    <tr>\n",
       "      <th>...</th>\n",
       "      <td>...</td>\n",
       "      <td>...</td>\n",
       "      <td>...</td>\n",
       "      <td>...</td>\n",
       "      <td>...</td>\n",
       "      <td>...</td>\n",
       "      <td>...</td>\n",
       "      <td>...</td>\n",
       "      <td>...</td>\n",
       "      <td>...</td>\n",
       "      <td>...</td>\n",
       "      <td>...</td>\n",
       "      <td>...</td>\n",
       "      <td>...</td>\n",
       "      <td>...</td>\n",
       "      <td>...</td>\n",
       "      <td>...</td>\n",
       "      <td>...</td>\n",
       "      <td>...</td>\n",
       "      <td>...</td>\n",
       "      <td>...</td>\n",
       "    </tr>\n",
       "    <tr>\n",
       "      <th>10018</th>\n",
       "      <td>0.022253</td>\n",
       "      <td>0.003848</td>\n",
       "      <td>0.003356</td>\n",
       "      <td>0.000333</td>\n",
       "      <td>0.000117</td>\n",
       "      <td>0.2</td>\n",
       "      <td>0.166667</td>\n",
       "      <td>0.352273</td>\n",
       "      <td>0.50</td>\n",
       "      <td>0.204082</td>\n",
       "      <td>...</td>\n",
       "      <td>0.058824</td>\n",
       "      <td>0.025641</td>\n",
       "      <td>0.285714</td>\n",
       "      <td>0.111111</td>\n",
       "      <td>0.066667</td>\n",
       "      <td>0.166667</td>\n",
       "      <td>0.25</td>\n",
       "      <td>0.055556</td>\n",
       "      <td>0.166667</td>\n",
       "      <td>0.000176</td>\n",
       "    </tr>\n",
       "    <tr>\n",
       "      <th>10019</th>\n",
       "      <td>0.003107</td>\n",
       "      <td>0.004081</td>\n",
       "      <td>0.003356</td>\n",
       "      <td>0.000064</td>\n",
       "      <td>0.000052</td>\n",
       "      <td>0.2</td>\n",
       "      <td>0.166667</td>\n",
       "      <td>0.000000</td>\n",
       "      <td>1.00</td>\n",
       "      <td>0.693878</td>\n",
       "      <td>...</td>\n",
       "      <td>0.058824</td>\n",
       "      <td>0.025641</td>\n",
       "      <td>0.285714</td>\n",
       "      <td>0.111111</td>\n",
       "      <td>0.066667</td>\n",
       "      <td>0.166667</td>\n",
       "      <td>0.25</td>\n",
       "      <td>0.055556</td>\n",
       "      <td>0.166667</td>\n",
       "      <td>0.000176</td>\n",
       "    </tr>\n",
       "    <tr>\n",
       "      <th>10020</th>\n",
       "      <td>0.000210</td>\n",
       "      <td>0.004897</td>\n",
       "      <td>0.005034</td>\n",
       "      <td>0.000053</td>\n",
       "      <td>0.000156</td>\n",
       "      <td>0.2</td>\n",
       "      <td>0.166667</td>\n",
       "      <td>0.011364</td>\n",
       "      <td>0.75</td>\n",
       "      <td>0.204082</td>\n",
       "      <td>...</td>\n",
       "      <td>0.058824</td>\n",
       "      <td>0.025641</td>\n",
       "      <td>0.285714</td>\n",
       "      <td>0.111111</td>\n",
       "      <td>0.066667</td>\n",
       "      <td>0.166667</td>\n",
       "      <td>0.25</td>\n",
       "      <td>0.055556</td>\n",
       "      <td>0.166667</td>\n",
       "      <td>0.000176</td>\n",
       "    </tr>\n",
       "    <tr>\n",
       "      <th>10021</th>\n",
       "      <td>0.001637</td>\n",
       "      <td>0.004392</td>\n",
       "      <td>0.003356</td>\n",
       "      <td>0.757637</td>\n",
       "      <td>0.000182</td>\n",
       "      <td>0.2</td>\n",
       "      <td>0.166667</td>\n",
       "      <td>0.011364</td>\n",
       "      <td>0.75</td>\n",
       "      <td>0.204082</td>\n",
       "      <td>...</td>\n",
       "      <td>0.058824</td>\n",
       "      <td>0.025641</td>\n",
       "      <td>0.285714</td>\n",
       "      <td>0.111111</td>\n",
       "      <td>0.066667</td>\n",
       "      <td>0.166667</td>\n",
       "      <td>0.25</td>\n",
       "      <td>0.055556</td>\n",
       "      <td>0.166667</td>\n",
       "      <td>0.000176</td>\n",
       "    </tr>\n",
       "    <tr>\n",
       "      <th>10022</th>\n",
       "      <td>0.000126</td>\n",
       "      <td>0.002345</td>\n",
       "      <td>0.003356</td>\n",
       "      <td>0.000045</td>\n",
       "      <td>0.000013</td>\n",
       "      <td>0.2</td>\n",
       "      <td>0.333333</td>\n",
       "      <td>0.011364</td>\n",
       "      <td>0.75</td>\n",
       "      <td>0.428571</td>\n",
       "      <td>...</td>\n",
       "      <td>0.205882</td>\n",
       "      <td>0.615385</td>\n",
       "      <td>0.142857</td>\n",
       "      <td>0.111111</td>\n",
       "      <td>0.066667</td>\n",
       "      <td>0.166667</td>\n",
       "      <td>0.25</td>\n",
       "      <td>0.055556</td>\n",
       "      <td>0.166667</td>\n",
       "      <td>0.000176</td>\n",
       "    </tr>\n",
       "  </tbody>\n",
       "</table>\n",
       "<p>10023 rows × 31 columns</p>\n",
       "</div>"
      ],
      "text/plain": [
       "        pdfsize  metadata size     pages  xref Length  title characters  \\\n",
       "0      0.000378       0.002345  0.003356     0.000045          0.000013   \n",
       "1      0.000672       0.002915  0.001678     0.000080          0.000104   \n",
       "2      0.000210       0.006076  0.005034     0.000053          0.000221   \n",
       "3      0.000756       0.003252  0.003356     0.000061          0.000013   \n",
       "4      0.000336       0.003278  0.006711     0.000064          0.000597   \n",
       "...         ...            ...       ...          ...               ...   \n",
       "10018  0.022253       0.003848  0.003356     0.000333          0.000117   \n",
       "10019  0.003107       0.004081  0.003356     0.000064          0.000052   \n",
       "10020  0.000210       0.004897  0.005034     0.000053          0.000156   \n",
       "10021  0.001637       0.004392  0.003356     0.757637          0.000182   \n",
       "10022  0.000126       0.002345  0.003356     0.000045          0.000013   \n",
       "\n",
       "       isEncrypted  embedded files    images  text    header  ...  Javascript  \\\n",
       "0              0.2        0.166667  0.011364  0.50  0.204082  ...    0.058824   \n",
       "1              0.2        0.166667  0.011364  0.50  0.428571  ...    0.029412   \n",
       "2              0.2        0.166667  0.011364  0.75  0.204082  ...    0.323529   \n",
       "3              0.2        0.166667  0.011364  0.50  0.204082  ...    0.470588   \n",
       "4              0.2        0.166667  0.011364  0.75  0.204082  ...    0.323529   \n",
       "...            ...             ...       ...   ...       ...  ...         ...   \n",
       "10018          0.2        0.166667  0.352273  0.50  0.204082  ...    0.058824   \n",
       "10019          0.2        0.166667  0.000000  1.00  0.693878  ...    0.058824   \n",
       "10020          0.2        0.166667  0.011364  0.75  0.204082  ...    0.058824   \n",
       "10021          0.2        0.166667  0.011364  0.75  0.204082  ...    0.058824   \n",
       "10022          0.2        0.333333  0.011364  0.75  0.428571  ...    0.205882   \n",
       "\n",
       "             AA  OpenAction  Acroform  JBIG2Decode  RichMedia  launch  \\\n",
       "0      0.025641    0.285714  0.111111     0.066667   0.166667    0.25   \n",
       "1      0.025641    0.142857  0.222222     0.066667   0.166667    0.25   \n",
       "2      0.025641    0.285714  0.111111     0.066667   0.166667    0.25   \n",
       "3      0.025641    0.285714  0.222222     0.066667   0.166667    0.25   \n",
       "4      0.025641    0.285714  0.111111     0.066667   0.166667    0.25   \n",
       "...         ...         ...       ...          ...        ...     ...   \n",
       "10018  0.025641    0.285714  0.111111     0.066667   0.166667    0.25   \n",
       "10019  0.025641    0.285714  0.111111     0.066667   0.166667    0.25   \n",
       "10020  0.025641    0.285714  0.111111     0.066667   0.166667    0.25   \n",
       "10021  0.025641    0.285714  0.111111     0.066667   0.166667    0.25   \n",
       "10022  0.615385    0.142857  0.111111     0.066667   0.166667    0.25   \n",
       "\n",
       "       EmbeddedFile       XFA    Colors  \n",
       "0          0.055556  0.166667  0.000176  \n",
       "1          0.944444  0.333333  0.000176  \n",
       "2          0.055556  0.166667  0.000176  \n",
       "3          0.055556  0.166667  0.000176  \n",
       "4          0.055556  0.166667  0.000176  \n",
       "...             ...       ...       ...  \n",
       "10018      0.055556  0.166667  0.000176  \n",
       "10019      0.055556  0.166667  0.000176  \n",
       "10020      0.055556  0.166667  0.000176  \n",
       "10021      0.055556  0.166667  0.000176  \n",
       "10022      0.055556  0.166667  0.000176  \n",
       "\n",
       "[10023 rows x 31 columns]"
      ]
     },
<<<<<<< HEAD
     "execution_count": 17,
=======
     "execution_count": 18,
>>>>>>> baa965774bbc78241c80f9107209665e54002ea9
     "metadata": {},
     "output_type": "execute_result"
    }
   ],
   "source": [
    "# Khúc này code có sẵn print ra để xem thôi chứ không có gì, bỏ cell này cũng được cho đỡ rối\n",
    "conv = pd.DataFrame(X_mm,columns=  X.columns)\n",
    "\n",
    "conv"
   ]
  },
  {
   "cell_type": "code",
<<<<<<< HEAD
   "execution_count": 18,
=======
   "execution_count": 19,
>>>>>>> baa965774bbc78241c80f9107209665e54002ea9
   "metadata": {},
   "outputs": [],
   "source": [
    "from sklearn.model_selection import train_test_split\n",
    "X_train, X_test, y_train, y_test = train_test_split(X_mm, y, train_size=0.8)"
   ]
  },
  {
   "cell_type": "markdown",
   "metadata": {
    "id": "nfJRDq8MXcw4"
   },
   "source": [
    "**Import Library SMOTE**"
   ]
  },
  {
   "cell_type": "code",
<<<<<<< HEAD
   "execution_count": 19,
=======
   "execution_count": 20,
>>>>>>> baa965774bbc78241c80f9107209665e54002ea9
   "metadata": {
    "id": "KLaLTu6R8NiU"
   },
   "outputs": [],
   "source": [
    "# Cũng là phương pháp cân bằng dữ liệu khác, tạo sinh dữ liệu của lớp ít cho bằng với lớp nhiều \n",
    "# (tự tạo thêm điểm dữ liệu từ những điểm dữ liệu có sẵn, thuật toán tự tìm hiểu thêm, cũng dễ hiểu)\n",
    "from imblearn.over_sampling import SMOTE\n",
    "\n",
    "smote = SMOTE()\n",
    "X_smote, y_smote = smote.fit_resample(X_train, y_train)"
   ]
  },
  {
   "cell_type": "code",
<<<<<<< HEAD
   "execution_count": 20,
=======
   "execution_count": 21,
>>>>>>> baa965774bbc78241c80f9107209665e54002ea9
   "metadata": {
    "colab": {
     "base_uri": "https://localhost:8080/",
     "height": 365
    },
    "executionInfo": {
     "elapsed": 426,
     "status": "ok",
     "timestamp": 1662302975280,
     "user": {
      "displayName": "Novi Yuningsih",
      "userId": "08645790852716760917"
     },
     "user_tz": -420
    },
    "id": "LMjvwusK8QMF",
    "outputId": "a5a12cc8-5e75-42f7-91b3-70bbdd7fe41f"
   },
   "outputs": [
    {
     "name": "stdout",
     "output_type": "stream",
     "text": [
      "Class\n",
<<<<<<< HEAD
      "0        4432\n",
      "1        4432\n",
=======
      "0        4416\n",
      "1        4416\n",
>>>>>>> baa965774bbc78241c80f9107209665e54002ea9
      "Name: count, dtype: int64\n"
     ]
    },
    {
     "data": {
<<<<<<< HEAD
      "image/png": "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",
=======
      "image/png": "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",
>>>>>>> baa965774bbc78241c80f9107209665e54002ea9
      "text/plain": [
       "<Figure size 640x480 with 1 Axes>"
      ]
     },
     "metadata": {},
     "output_type": "display_data"
    }
   ],
   "source": [
    "c = pd.DataFrame(data=y_smote,columns=[\"Class\"])\n",
    "c.Class.value_counts().plot(kind='bar', title='Data Balance');\n",
    "print (c.value_counts())"
   ]
  },
  {
   "cell_type": "code",
<<<<<<< HEAD
   "execution_count": 21,
=======
   "execution_count": 22,
>>>>>>> baa965774bbc78241c80f9107209665e54002ea9
   "metadata": {
    "colab": {
     "base_uri": "https://localhost:8080/"
    },
    "executionInfo": {
     "elapsed": 423,
     "status": "ok",
     "timestamp": 1662302978531,
     "user": {
      "displayName": "Novi Yuningsih",
      "userId": "08645790852716760917"
     },
     "user_tz": -420
    },
    "id": "EcEvQCtjQ7Yi",
    "outputId": "d1c81109-dca8-4dc0-8ca0-559a694818e8"
   },
   "outputs": [
    {
     "data": {
      "text/plain": [
<<<<<<< HEAD
       "array([[1.42755175e-03, 3.38144223e-03, 3.35570470e-03, ...,\n",
       "        5.55555556e-02, 1.66666667e-01, 1.75963400e-04],\n",
       "       [1.25960448e-04, 2.34498484e-03, 1.67785235e-03, ...,\n",
       "        9.44444444e-01, 3.33333333e-01, 1.75963400e-04],\n",
       "       [3.65285300e-03, 2.34498484e-03, 1.00671141e-02, ...,\n",
       "        5.55555556e-02, 1.66666667e-01, 1.75963400e-04],\n",
       "       ...,\n",
       "       [9.29356478e-04, 2.97981499e-03, 2.25217933e-02, ...,\n",
       "        5.55555556e-02, 1.66666667e-01, 1.75963400e-04],\n",
       "       [1.34189262e-03, 3.72675466e-03, 1.82849156e-02, ...,\n",
       "        5.55555556e-02, 1.66666667e-01, 1.75963400e-04],\n",
       "       [1.19098004e-03, 3.85085287e-03, 3.72652482e-03, ...,\n",
       "        5.55555556e-02, 1.66666667e-01, 1.75963400e-04]])"
      ]
     },
     "execution_count": 21,
=======
       "array([[3.77881345e-04, 2.34498484e-03, 3.35570470e-03, ...,\n",
       "        0.00000000e+00, 0.00000000e+00, 0.00000000e+00],\n",
       "       [2.81311668e-03, 3.44622082e-03, 3.35570470e-03, ...,\n",
       "        5.55555556e-02, 1.66666667e-01, 1.75963400e-04],\n",
       "       [2.09934081e-04, 3.23892934e-03, 3.35570470e-03, ...,\n",
       "        5.55555556e-02, 1.66666667e-01, 1.75963400e-04],\n",
       "       ...,\n",
       "       [1.23041021e-02, 3.91937552e-03, 2.60529102e-02, ...,\n",
       "        5.55555556e-02, 1.66666667e-01, 1.75963400e-04],\n",
       "       [3.19638971e-03, 4.72833246e-03, 3.35570470e-03, ...,\n",
       "        9.44444444e-01, 1.66666667e-01, 1.75963400e-04],\n",
       "       [9.16414143e-04, 3.87375949e-03, 3.35570470e-03, ...,\n",
       "        5.55555556e-02, 1.66666667e-01, 1.75963400e-04]])"
      ]
     },
     "execution_count": 22,
>>>>>>> baa965774bbc78241c80f9107209665e54002ea9
     "metadata": {},
     "output_type": "execute_result"
    }
   ],
   "source": [
    "X_smote"
   ]
  },
  {
   "cell_type": "code",
<<<<<<< HEAD
   "execution_count": 22,
=======
   "execution_count": 23,
>>>>>>> baa965774bbc78241c80f9107209665e54002ea9
   "metadata": {
    "colab": {
     "base_uri": "https://localhost:8080/"
    },
    "executionInfo": {
     "elapsed": 36,
     "status": "ok",
     "timestamp": 1662302985009,
     "user": {
      "displayName": "Novi Yuningsih",
      "userId": "08645790852716760917"
     },
     "user_tz": -420
    },
    "id": "Xy9UV_cpXDWm",
    "outputId": "c79dcd17-3a49-402d-b53b-dfe5dd974234"
   },
   "outputs": [
    {
     "data": {
      "text/plain": [
<<<<<<< HEAD
       "0       0\n",
       "1       1\n",
       "2       1\n",
       "3       1\n",
       "4       1\n",
       "       ..\n",
       "8859    0\n",
       "8860    0\n",
       "8861    0\n",
       "8862    0\n",
       "8863    0\n",
       "Name: Class, Length: 8864, dtype: int32"
      ]
     },
     "execution_count": 22,
=======
       "0       1\n",
       "1       0\n",
       "2       1\n",
       "3       1\n",
       "4       0\n",
       "       ..\n",
       "8827    0\n",
       "8828    0\n",
       "8829    0\n",
       "8830    0\n",
       "8831    0\n",
       "Name: Class, Length: 8832, dtype: int32"
      ]
     },
     "execution_count": 23,
>>>>>>> baa965774bbc78241c80f9107209665e54002ea9
     "metadata": {},
     "output_type": "execute_result"
    }
   ],
   "source": [
    "y_smote"
   ]
  },
  {
   "cell_type": "code",
<<<<<<< HEAD
   "execution_count": 23,
=======
   "execution_count": 24,
>>>>>>> baa965774bbc78241c80f9107209665e54002ea9
   "metadata": {
    "id": "YFenNaiIjQQ-"
   },
   "outputs": [
    {
     "data": {
      "text/html": [
       "<style>#sk-container-id-1 {\n",
       "  /* Definition of color scheme common for light and dark mode */\n",
       "  --sklearn-color-text: black;\n",
       "  --sklearn-color-line: gray;\n",
       "  /* Definition of color scheme for unfitted estimators */\n",
       "  --sklearn-color-unfitted-level-0: #fff5e6;\n",
       "  --sklearn-color-unfitted-level-1: #f6e4d2;\n",
       "  --sklearn-color-unfitted-level-2: #ffe0b3;\n",
       "  --sklearn-color-unfitted-level-3: chocolate;\n",
       "  /* Definition of color scheme for fitted estimators */\n",
       "  --sklearn-color-fitted-level-0: #f0f8ff;\n",
       "  --sklearn-color-fitted-level-1: #d4ebff;\n",
       "  --sklearn-color-fitted-level-2: #b3dbfd;\n",
       "  --sklearn-color-fitted-level-3: cornflowerblue;\n",
       "\n",
       "  /* Specific color for light theme */\n",
       "  --sklearn-color-text-on-default-background: var(--sg-text-color, var(--theme-code-foreground, var(--jp-content-font-color1, black)));\n",
       "  --sklearn-color-background: var(--sg-background-color, var(--theme-background, var(--jp-layout-color0, white)));\n",
       "  --sklearn-color-border-box: var(--sg-text-color, var(--theme-code-foreground, var(--jp-content-font-color1, black)));\n",
       "  --sklearn-color-icon: #696969;\n",
       "\n",
       "  @media (prefers-color-scheme: dark) {\n",
       "    /* Redefinition of color scheme for dark theme */\n",
       "    --sklearn-color-text-on-default-background: var(--sg-text-color, var(--theme-code-foreground, var(--jp-content-font-color1, white)));\n",
       "    --sklearn-color-background: var(--sg-background-color, var(--theme-background, var(--jp-layout-color0, #111)));\n",
       "    --sklearn-color-border-box: var(--sg-text-color, var(--theme-code-foreground, var(--jp-content-font-color1, white)));\n",
       "    --sklearn-color-icon: #878787;\n",
       "  }\n",
       "}\n",
       "\n",
       "#sk-container-id-1 {\n",
       "  color: var(--sklearn-color-text);\n",
       "}\n",
       "\n",
       "#sk-container-id-1 pre {\n",
       "  padding: 0;\n",
       "}\n",
       "\n",
       "#sk-container-id-1 input.sk-hidden--visually {\n",
       "  border: 0;\n",
       "  clip: rect(1px 1px 1px 1px);\n",
       "  clip: rect(1px, 1px, 1px, 1px);\n",
       "  height: 1px;\n",
       "  margin: -1px;\n",
       "  overflow: hidden;\n",
       "  padding: 0;\n",
       "  position: absolute;\n",
       "  width: 1px;\n",
       "}\n",
       "\n",
       "#sk-container-id-1 div.sk-dashed-wrapped {\n",
       "  border: 1px dashed var(--sklearn-color-line);\n",
       "  margin: 0 0.4em 0.5em 0.4em;\n",
       "  box-sizing: border-box;\n",
       "  padding-bottom: 0.4em;\n",
       "  background-color: var(--sklearn-color-background);\n",
       "}\n",
       "\n",
       "#sk-container-id-1 div.sk-container {\n",
       "  /* jupyter's `normalize.less` sets `[hidden] { display: none; }`\n",
       "     but bootstrap.min.css set `[hidden] { display: none !important; }`\n",
       "     so we also need the `!important` here to be able to override the\n",
       "     default hidden behavior on the sphinx rendered scikit-learn.org.\n",
       "     See: https://github.com/scikit-learn/scikit-learn/issues/21755 */\n",
       "  display: inline-block !important;\n",
       "  position: relative;\n",
       "}\n",
       "\n",
       "#sk-container-id-1 div.sk-text-repr-fallback {\n",
       "  display: none;\n",
       "}\n",
       "\n",
       "div.sk-parallel-item,\n",
       "div.sk-serial,\n",
       "div.sk-item {\n",
       "  /* draw centered vertical line to link estimators */\n",
       "  background-image: linear-gradient(var(--sklearn-color-text-on-default-background), var(--sklearn-color-text-on-default-background));\n",
       "  background-size: 2px 100%;\n",
       "  background-repeat: no-repeat;\n",
       "  background-position: center center;\n",
       "}\n",
       "\n",
       "/* Parallel-specific style estimator block */\n",
       "\n",
       "#sk-container-id-1 div.sk-parallel-item::after {\n",
       "  content: \"\";\n",
       "  width: 100%;\n",
       "  border-bottom: 2px solid var(--sklearn-color-text-on-default-background);\n",
       "  flex-grow: 1;\n",
       "}\n",
       "\n",
       "#sk-container-id-1 div.sk-parallel {\n",
       "  display: flex;\n",
       "  align-items: stretch;\n",
       "  justify-content: center;\n",
       "  background-color: var(--sklearn-color-background);\n",
       "  position: relative;\n",
       "}\n",
       "\n",
       "#sk-container-id-1 div.sk-parallel-item {\n",
       "  display: flex;\n",
       "  flex-direction: column;\n",
       "}\n",
       "\n",
       "#sk-container-id-1 div.sk-parallel-item:first-child::after {\n",
       "  align-self: flex-end;\n",
       "  width: 50%;\n",
       "}\n",
       "\n",
       "#sk-container-id-1 div.sk-parallel-item:last-child::after {\n",
       "  align-self: flex-start;\n",
       "  width: 50%;\n",
       "}\n",
       "\n",
       "#sk-container-id-1 div.sk-parallel-item:only-child::after {\n",
       "  width: 0;\n",
       "}\n",
       "\n",
       "/* Serial-specific style estimator block */\n",
       "\n",
       "#sk-container-id-1 div.sk-serial {\n",
       "  display: flex;\n",
       "  flex-direction: column;\n",
       "  align-items: center;\n",
       "  background-color: var(--sklearn-color-background);\n",
       "  padding-right: 1em;\n",
       "  padding-left: 1em;\n",
       "}\n",
       "\n",
       "\n",
       "/* Toggleable style: style used for estimator/Pipeline/ColumnTransformer box that is\n",
       "clickable and can be expanded/collapsed.\n",
       "- Pipeline and ColumnTransformer use this feature and define the default style\n",
       "- Estimators will overwrite some part of the style using the `sk-estimator` class\n",
       "*/\n",
       "\n",
       "/* Pipeline and ColumnTransformer style (default) */\n",
       "\n",
       "#sk-container-id-1 div.sk-toggleable {\n",
       "  /* Default theme specific background. It is overwritten whether we have a\n",
       "  specific estimator or a Pipeline/ColumnTransformer */\n",
       "  background-color: var(--sklearn-color-background);\n",
       "}\n",
       "\n",
       "/* Toggleable label */\n",
       "#sk-container-id-1 label.sk-toggleable__label {\n",
       "  cursor: pointer;\n",
       "  display: block;\n",
       "  width: 100%;\n",
       "  margin-bottom: 0;\n",
       "  padding: 0.5em;\n",
       "  box-sizing: border-box;\n",
       "  text-align: center;\n",
       "}\n",
       "\n",
       "#sk-container-id-1 label.sk-toggleable__label-arrow:before {\n",
       "  /* Arrow on the left of the label */\n",
       "  content: \"▸\";\n",
       "  float: left;\n",
       "  margin-right: 0.25em;\n",
       "  color: var(--sklearn-color-icon);\n",
       "}\n",
       "\n",
       "#sk-container-id-1 label.sk-toggleable__label-arrow:hover:before {\n",
       "  color: var(--sklearn-color-text);\n",
       "}\n",
       "\n",
       "/* Toggleable content - dropdown */\n",
       "\n",
       "#sk-container-id-1 div.sk-toggleable__content {\n",
       "  max-height: 0;\n",
       "  max-width: 0;\n",
       "  overflow: hidden;\n",
       "  text-align: left;\n",
       "  /* unfitted */\n",
       "  background-color: var(--sklearn-color-unfitted-level-0);\n",
       "}\n",
       "\n",
       "#sk-container-id-1 div.sk-toggleable__content.fitted {\n",
       "  /* fitted */\n",
       "  background-color: var(--sklearn-color-fitted-level-0);\n",
       "}\n",
       "\n",
       "#sk-container-id-1 div.sk-toggleable__content pre {\n",
       "  margin: 0.2em;\n",
       "  border-radius: 0.25em;\n",
       "  color: var(--sklearn-color-text);\n",
       "  /* unfitted */\n",
       "  background-color: var(--sklearn-color-unfitted-level-0);\n",
       "}\n",
       "\n",
       "#sk-container-id-1 div.sk-toggleable__content.fitted pre {\n",
       "  /* unfitted */\n",
       "  background-color: var(--sklearn-color-fitted-level-0);\n",
       "}\n",
       "\n",
       "#sk-container-id-1 input.sk-toggleable__control:checked~div.sk-toggleable__content {\n",
       "  /* Expand drop-down */\n",
       "  max-height: 200px;\n",
       "  max-width: 100%;\n",
       "  overflow: auto;\n",
       "}\n",
       "\n",
       "#sk-container-id-1 input.sk-toggleable__control:checked~label.sk-toggleable__label-arrow:before {\n",
       "  content: \"▾\";\n",
       "}\n",
       "\n",
       "/* Pipeline/ColumnTransformer-specific style */\n",
       "\n",
       "#sk-container-id-1 div.sk-label input.sk-toggleable__control:checked~label.sk-toggleable__label {\n",
       "  color: var(--sklearn-color-text);\n",
       "  background-color: var(--sklearn-color-unfitted-level-2);\n",
       "}\n",
       "\n",
       "#sk-container-id-1 div.sk-label.fitted input.sk-toggleable__control:checked~label.sk-toggleable__label {\n",
       "  background-color: var(--sklearn-color-fitted-level-2);\n",
       "}\n",
       "\n",
       "/* Estimator-specific style */\n",
       "\n",
       "/* Colorize estimator box */\n",
       "#sk-container-id-1 div.sk-estimator input.sk-toggleable__control:checked~label.sk-toggleable__label {\n",
       "  /* unfitted */\n",
       "  background-color: var(--sklearn-color-unfitted-level-2);\n",
       "}\n",
       "\n",
       "#sk-container-id-1 div.sk-estimator.fitted input.sk-toggleable__control:checked~label.sk-toggleable__label {\n",
       "  /* fitted */\n",
       "  background-color: var(--sklearn-color-fitted-level-2);\n",
       "}\n",
       "\n",
       "#sk-container-id-1 div.sk-label label.sk-toggleable__label,\n",
       "#sk-container-id-1 div.sk-label label {\n",
       "  /* The background is the default theme color */\n",
       "  color: var(--sklearn-color-text-on-default-background);\n",
       "}\n",
       "\n",
       "/* On hover, darken the color of the background */\n",
       "#sk-container-id-1 div.sk-label:hover label.sk-toggleable__label {\n",
       "  color: var(--sklearn-color-text);\n",
       "  background-color: var(--sklearn-color-unfitted-level-2);\n",
       "}\n",
       "\n",
       "/* Label box, darken color on hover, fitted */\n",
       "#sk-container-id-1 div.sk-label.fitted:hover label.sk-toggleable__label.fitted {\n",
       "  color: var(--sklearn-color-text);\n",
       "  background-color: var(--sklearn-color-fitted-level-2);\n",
       "}\n",
       "\n",
       "/* Estimator label */\n",
       "\n",
       "#sk-container-id-1 div.sk-label label {\n",
       "  font-family: monospace;\n",
       "  font-weight: bold;\n",
       "  display: inline-block;\n",
       "  line-height: 1.2em;\n",
       "}\n",
       "\n",
       "#sk-container-id-1 div.sk-label-container {\n",
       "  text-align: center;\n",
       "}\n",
       "\n",
       "/* Estimator-specific */\n",
       "#sk-container-id-1 div.sk-estimator {\n",
       "  font-family: monospace;\n",
       "  border: 1px dotted var(--sklearn-color-border-box);\n",
       "  border-radius: 0.25em;\n",
       "  box-sizing: border-box;\n",
       "  margin-bottom: 0.5em;\n",
       "  /* unfitted */\n",
       "  background-color: var(--sklearn-color-unfitted-level-0);\n",
       "}\n",
       "\n",
       "#sk-container-id-1 div.sk-estimator.fitted {\n",
       "  /* fitted */\n",
       "  background-color: var(--sklearn-color-fitted-level-0);\n",
       "}\n",
       "\n",
       "/* on hover */\n",
       "#sk-container-id-1 div.sk-estimator:hover {\n",
       "  /* unfitted */\n",
       "  background-color: var(--sklearn-color-unfitted-level-2);\n",
       "}\n",
       "\n",
       "#sk-container-id-1 div.sk-estimator.fitted:hover {\n",
       "  /* fitted */\n",
       "  background-color: var(--sklearn-color-fitted-level-2);\n",
       "}\n",
       "\n",
       "/* Specification for estimator info (e.g. \"i\" and \"?\") */\n",
       "\n",
       "/* Common style for \"i\" and \"?\" */\n",
       "\n",
       ".sk-estimator-doc-link,\n",
       "a:link.sk-estimator-doc-link,\n",
       "a:visited.sk-estimator-doc-link {\n",
       "  float: right;\n",
       "  font-size: smaller;\n",
       "  line-height: 1em;\n",
       "  font-family: monospace;\n",
       "  background-color: var(--sklearn-color-background);\n",
       "  border-radius: 1em;\n",
       "  height: 1em;\n",
       "  width: 1em;\n",
       "  text-decoration: none !important;\n",
       "  margin-left: 1ex;\n",
       "  /* unfitted */\n",
       "  border: var(--sklearn-color-unfitted-level-1) 1pt solid;\n",
       "  color: var(--sklearn-color-unfitted-level-1);\n",
       "}\n",
       "\n",
       ".sk-estimator-doc-link.fitted,\n",
       "a:link.sk-estimator-doc-link.fitted,\n",
       "a:visited.sk-estimator-doc-link.fitted {\n",
       "  /* fitted */\n",
       "  border: var(--sklearn-color-fitted-level-1) 1pt solid;\n",
       "  color: var(--sklearn-color-fitted-level-1);\n",
       "}\n",
       "\n",
       "/* On hover */\n",
       "div.sk-estimator:hover .sk-estimator-doc-link:hover,\n",
       ".sk-estimator-doc-link:hover,\n",
       "div.sk-label-container:hover .sk-estimator-doc-link:hover,\n",
       ".sk-estimator-doc-link:hover {\n",
       "  /* unfitted */\n",
       "  background-color: var(--sklearn-color-unfitted-level-3);\n",
       "  color: var(--sklearn-color-background);\n",
       "  text-decoration: none;\n",
       "}\n",
       "\n",
       "div.sk-estimator.fitted:hover .sk-estimator-doc-link.fitted:hover,\n",
       ".sk-estimator-doc-link.fitted:hover,\n",
       "div.sk-label-container:hover .sk-estimator-doc-link.fitted:hover,\n",
       ".sk-estimator-doc-link.fitted:hover {\n",
       "  /* fitted */\n",
       "  background-color: var(--sklearn-color-fitted-level-3);\n",
       "  color: var(--sklearn-color-background);\n",
       "  text-decoration: none;\n",
       "}\n",
       "\n",
       "/* Span, style for the box shown on hovering the info icon */\n",
       ".sk-estimator-doc-link span {\n",
       "  display: none;\n",
       "  z-index: 9999;\n",
       "  position: relative;\n",
       "  font-weight: normal;\n",
       "  right: .2ex;\n",
       "  padding: .5ex;\n",
       "  margin: .5ex;\n",
       "  width: min-content;\n",
       "  min-width: 20ex;\n",
       "  max-width: 50ex;\n",
       "  color: var(--sklearn-color-text);\n",
       "  box-shadow: 2pt 2pt 4pt #999;\n",
       "  /* unfitted */\n",
       "  background: var(--sklearn-color-unfitted-level-0);\n",
       "  border: .5pt solid var(--sklearn-color-unfitted-level-3);\n",
       "}\n",
       "\n",
       ".sk-estimator-doc-link.fitted span {\n",
       "  /* fitted */\n",
       "  background: var(--sklearn-color-fitted-level-0);\n",
       "  border: var(--sklearn-color-fitted-level-3);\n",
       "}\n",
       "\n",
       ".sk-estimator-doc-link:hover span {\n",
       "  display: block;\n",
       "}\n",
       "\n",
       "/* \"?\"-specific style due to the `<a>` HTML tag */\n",
       "\n",
       "#sk-container-id-1 a.estimator_doc_link {\n",
       "  float: right;\n",
       "  font-size: 1rem;\n",
       "  line-height: 1em;\n",
       "  font-family: monospace;\n",
       "  background-color: var(--sklearn-color-background);\n",
       "  border-radius: 1rem;\n",
       "  height: 1rem;\n",
       "  width: 1rem;\n",
       "  text-decoration: none;\n",
       "  /* unfitted */\n",
       "  color: var(--sklearn-color-unfitted-level-1);\n",
       "  border: var(--sklearn-color-unfitted-level-1) 1pt solid;\n",
       "}\n",
       "\n",
       "#sk-container-id-1 a.estimator_doc_link.fitted {\n",
       "  /* fitted */\n",
       "  border: var(--sklearn-color-fitted-level-1) 1pt solid;\n",
       "  color: var(--sklearn-color-fitted-level-1);\n",
       "}\n",
       "\n",
       "/* On hover */\n",
       "#sk-container-id-1 a.estimator_doc_link:hover {\n",
       "  /* unfitted */\n",
       "  background-color: var(--sklearn-color-unfitted-level-3);\n",
       "  color: var(--sklearn-color-background);\n",
       "  text-decoration: none;\n",
       "}\n",
       "\n",
       "#sk-container-id-1 a.estimator_doc_link.fitted:hover {\n",
       "  /* fitted */\n",
       "  background-color: var(--sklearn-color-fitted-level-3);\n",
       "}\n",
       "</style><div id=\"sk-container-id-1\" class=\"sk-top-container\"><div class=\"sk-text-repr-fallback\"><pre>RandomForestClassifier()</pre><b>In a Jupyter environment, please rerun this cell to show the HTML representation or trust the notebook. <br />On GitHub, the HTML representation is unable to render, please try loading this page with nbviewer.org.</b></div><div class=\"sk-container\" hidden><div class=\"sk-item\"><div class=\"sk-estimator fitted sk-toggleable\"><input class=\"sk-toggleable__control sk-hidden--visually\" id=\"sk-estimator-id-1\" type=\"checkbox\" checked><label for=\"sk-estimator-id-1\" class=\"sk-toggleable__label fitted sk-toggleable__label-arrow fitted\">&nbsp;&nbsp;RandomForestClassifier<a class=\"sk-estimator-doc-link fitted\" rel=\"noreferrer\" target=\"_blank\" href=\"https://scikit-learn.org/1.4/modules/generated/sklearn.ensemble.RandomForestClassifier.html\">?<span>Documentation for RandomForestClassifier</span></a><span class=\"sk-estimator-doc-link fitted\">i<span>Fitted</span></span></label><div class=\"sk-toggleable__content fitted\"><pre>RandomForestClassifier()</pre></div> </div></div></div></div>"
      ],
      "text/plain": [
       "RandomForestClassifier()"
      ]
     },
<<<<<<< HEAD
     "execution_count": 23,
=======
     "execution_count": 24,
>>>>>>> baa965774bbc78241c80f9107209665e54002ea9
     "metadata": {},
     "output_type": "execute_result"
    }
   ],
   "source": [
    "from sklearn.ensemble import RandomForestClassifier\n",
    "\n",
    "# Tạo một biến lưu mô hình KNeighborsClassifier\n",
    "model = RandomForestClassifier()\n",
    "\n",
    "model.fit (X_train, y_train)"
   ]
  },
  {
   "cell_type": "code",
<<<<<<< HEAD
   "execution_count": 24,
=======
   "execution_count": 25,
>>>>>>> baa965774bbc78241c80f9107209665e54002ea9
   "metadata": {},
   "outputs": [
    {
     "data": {
      "text/plain": [
       "0.9930174563591022"
      ]
     },
<<<<<<< HEAD
     "execution_count": 24,
=======
     "execution_count": 25,
>>>>>>> baa965774bbc78241c80f9107209665e54002ea9
     "metadata": {},
     "output_type": "execute_result"
    }
   ],
   "source": [
    "model.score(X_test, y_test)"
   ]
  },
  {
   "cell_type": "code",
<<<<<<< HEAD
   "execution_count": 25,
=======
   "execution_count": 26,
>>>>>>> baa965774bbc78241c80f9107209665e54002ea9
   "metadata": {},
   "outputs": [
    {
     "data": {
      "text/plain": [
       "array([0])"
      ]
     },
<<<<<<< HEAD
     "execution_count": 25,
=======
     "execution_count": 26,
>>>>>>> baa965774bbc78241c80f9107209665e54002ea9
     "metadata": {},
     "output_type": "execute_result"
    }
   ],
   "source": [
    "# Dự đoán\n",
    "model.predict ([X_test[2]])"
   ]
  },
  {
   "cell_type": "code",
<<<<<<< HEAD
   "execution_count": 26,
=======
   "execution_count": 27,
>>>>>>> baa965774bbc78241c80f9107209665e54002ea9
   "metadata": {},
   "outputs": [
    {
     "data": {
      "text/plain": [
<<<<<<< HEAD
       "array([[1., 0.]])"
      ]
     },
     "execution_count": 26,
=======
       "array([[0., 1.]])"
      ]
     },
     "execution_count": 27,
>>>>>>> baa965774bbc78241c80f9107209665e54002ea9
     "metadata": {},
     "output_type": "execute_result"
    }
   ],
   "source": [
    "# Xác xuất để ra là 0 và 1 tương ứng là không là mã độc, là mã độc\n",
    "model.predict_proba([X_test[2]])"
   ]
  },
  {
   "cell_type": "code",
<<<<<<< HEAD
   "execution_count": 27,
=======
   "execution_count": 28,
>>>>>>> baa965774bbc78241c80f9107209665e54002ea9
   "metadata": {},
   "outputs": [
    {
     "data": {
      "text/plain": [
<<<<<<< HEAD
       "array([[ 877,    5],\n",
       "       [   6, 1117]], dtype=int64)"
      ]
     },
     "execution_count": 27,
=======
       "array([[ 859,    7],\n",
       "       [   7, 1132]], dtype=int64)"
      ]
     },
     "execution_count": 28,
>>>>>>> baa965774bbc78241c80f9107209665e54002ea9
     "metadata": {},
     "output_type": "execute_result"
    }
   ],
   "source": [
    "confusion_matrix(y_test, model.predict(X_test))"
   ]
  },
  {
   "cell_type": "markdown",
   "metadata": {},
   "source": [
    "**Tính time model predict**"
   ]
  },
  {
   "cell_type": "code",
<<<<<<< HEAD
   "execution_count": 28,
=======
   "execution_count": 29,
>>>>>>> baa965774bbc78241c80f9107209665e54002ea9
   "metadata": {
    "colab": {
     "base_uri": "https://localhost:8080/"
    },
    "executionInfo": {
     "elapsed": 123088,
     "status": "ok",
     "timestamp": 1662191717646,
     "user": {
      "displayName": "Novi Yuningsih",
      "userId": "08645790852716760917"
     },
     "user_tz": -420
    },
    "id": "yTJpHvr5kJO1",
    "outputId": "a499ee5f-8b01-4501-d2dc-2c692f081226",
    "scrolled": true
   },
   "outputs": [
    {
     "name": "stdout",
     "output_type": "stream",
     "text": [
<<<<<<< HEAD
      "Thời gian thực hiện:  0.014313459396362305 giây\n"
=======
      "Thời gian thực hiện:  0.04586482048034668 giây\n"
>>>>>>> baa965774bbc78241c80f9107209665e54002ea9
     ]
    }
   ],
   "source": [
    "import time\n",
    "\n",
    "start_time = time.time()\n",
    "y_pred = model.predict(X_test)\n",
    "end_time = time.time()\n",
    "\n",
    "execution_time = end_time - start_time\n",
    "print(\"Thời gian thực hiện: \", execution_time, \"giây\")"
   ]
  },
  {
   "cell_type": "code",
<<<<<<< HEAD
   "execution_count": 29,
=======
   "execution_count": 30,
>>>>>>> baa965774bbc78241c80f9107209665e54002ea9
   "metadata": {},
   "outputs": [
    {
     "data": {
      "text/plain": [
       "2005"
      ]
     },
<<<<<<< HEAD
     "execution_count": 29,
=======
     "execution_count": 30,
>>>>>>> baa965774bbc78241c80f9107209665e54002ea9
     "metadata": {},
     "output_type": "execute_result"
    }
   ],
   "source": [
    "len(X_test)"
   ]
  },
  {
   "cell_type": "code",
<<<<<<< HEAD
   "execution_count": 30,
=======
   "execution_count": 31,
>>>>>>> baa965774bbc78241c80f9107209665e54002ea9
   "metadata": {},
   "outputs": [
    {
     "data": {
      "text/plain": [
<<<<<<< HEAD
       "6688     0\n",
       "1450     1\n",
       "8779     0\n",
       "7574     0\n",
       "3345     1\n",
       "        ..\n",
       "6127     0\n",
       "2014     1\n",
       "1371     1\n",
       "8700     0\n",
       "10009    1\n",
       "Name: Class, Length: 2005, dtype: int32"
      ]
     },
     "execution_count": 30,
=======
       "9952    1\n",
       "9173    0\n",
       "5381    1\n",
       "7696    0\n",
       "6540    0\n",
       "       ..\n",
       "894     1\n",
       "1942    1\n",
       "348     1\n",
       "6396    0\n",
       "7257    0\n",
       "Name: Class, Length: 2005, dtype: int32"
      ]
     },
     "execution_count": 31,
>>>>>>> baa965774bbc78241c80f9107209665e54002ea9
     "metadata": {},
     "output_type": "execute_result"
    }
   ],
   "source": [
    "y_test"
   ]
  },
  {
   "cell_type": "code",
<<<<<<< HEAD
   "execution_count": 31,
=======
   "execution_count": 32,
>>>>>>> baa965774bbc78241c80f9107209665e54002ea9
   "metadata": {},
   "outputs": [
    {
     "data": {
      "text/plain": [
<<<<<<< HEAD
       "array([0, 1, 0, ..., 1, 0, 1])"
      ]
     },
     "execution_count": 31,
=======
       "array([1, 0, 1, ..., 1, 0, 0])"
      ]
     },
     "execution_count": 32,
>>>>>>> baa965774bbc78241c80f9107209665e54002ea9
     "metadata": {},
     "output_type": "execute_result"
    }
   ],
   "source": [
    "y_pred"
   ]
  },
  {
<<<<<<< HEAD
=======
   "cell_type": "markdown",
   "metadata": {},
   "source": [
    "**Classification Report**"
   ]
  },
  {
   "cell_type": "code",
   "execution_count": 33,
   "metadata": {},
   "outputs": [],
   "source": [
    "from sklearn.metrics import classification_report"
   ]
  },
  {
>>>>>>> baa965774bbc78241c80f9107209665e54002ea9
   "cell_type": "code",
   "execution_count": 34,
   "metadata": {},
   "outputs": [
    {
<<<<<<< HEAD
     "data": {
      "image/png": "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",
=======
     "name": "stdout",
     "output_type": "stream",
     "text": [
      "              precision    recall  f1-score   support\n",
      "\n",
      "           0    0.99192   0.99192   0.99192       866\n",
      "           1    0.99385   0.99385   0.99385      1139\n",
      "\n",
      "    accuracy                        0.99302      2005\n",
      "   macro avg    0.99289   0.99289   0.99289      2005\n",
      "weighted avg    0.99302   0.99302   0.99302      2005\n",
      "\n"
     ]
    }
   ],
   "source": [
    "print (classification_report(y_test, y_pred,digits=5))"
   ]
  },
  {
   "cell_type": "markdown",
   "metadata": {},
   "source": [
    "**Confunsion Matrix**"
   ]
  },
  {
   "cell_type": "code",
   "execution_count": 35,
   "metadata": {},
   "outputs": [
    {
     "data": {
      "image/png": "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",
>>>>>>> baa965774bbc78241c80f9107209665e54002ea9
      "text/plain": [
       "<Figure size 800x600 with 2 Axes>"
      ]
     },
     "metadata": {},
     "output_type": "display_data"
    }
   ],
   "source": [
    "cm = confusion_matrix(y_test, model.predict(X_test))\n",
    "\n",
    "\n",
    "# Lấy các nhãn duy nhất từ y_true và y_pred để biết số lượng lớp\n",
    "labels = np.unique(y_test)\n",
    "\n",
    "# Chuẩn bị vẽ confusion matrix\n",
    "plt.figure(figsize=(8, 6))\n",
    "sns.heatmap(cm, annot=True, fmt='d', cmap='Oranges', xticklabels=labels, yticklabels=labels)\n",
    "plt.title('Confusion Matrix_Decision Tree')\n",
    "plt.ylabel('Actual Class')\n",
    "plt.xlabel('Predicted Class')\n",
    "plt.show()\n"
   ]
<<<<<<< HEAD
  },
  {
   "cell_type": "code",
   "execution_count": 36,
   "metadata": {},
   "outputs": [
    {
     "data": {
      "text/plain": [
       "array([1])"
      ]
     },
     "execution_count": 36,
     "metadata": {},
     "output_type": "execute_result"
    }
   ],
   "source": [
    "model.predict(X_test[-1].reshape(1, -1))"
   ]
  },
  {
   "cell_type": "code",
   "execution_count": 35,
   "metadata": {},
   "outputs": [
    {
     "data": {
      "text/plain": [
       "6688     0\n",
       "1450     1\n",
       "8779     0\n",
       "7574     0\n",
       "3345     1\n",
       "        ..\n",
       "6127     0\n",
       "2014     1\n",
       "1371     1\n",
       "8700     0\n",
       "10009    1\n",
       "Name: Class, Length: 2005, dtype: int32"
      ]
     },
     "execution_count": 35,
     "metadata": {},
     "output_type": "execute_result"
    }
   ],
   "source": [
    "y_test"
   ]
  },
  {
   "cell_type": "code",
   "execution_count": null,
   "metadata": {},
   "outputs": [],
   "source": []
=======
>>>>>>> baa965774bbc78241c80f9107209665e54002ea9
  }
 ],
 "metadata": {
  "colab": {
   "collapsed_sections": [],
   "provenance": []
  },
  "kernelspec": {
   "display_name": "Python 3 (ipykernel)",
   "language": "python",
   "name": "python3"
  },
  "language_info": {
   "codemirror_mode": {
    "name": "ipython",
    "version": 3
   },
   "file_extension": ".py",
   "mimetype": "text/x-python",
   "name": "python",
   "nbconvert_exporter": "python",
   "pygments_lexer": "ipython3",
   "version": "3.11.9"
  }
 },
 "nbformat": 4,
 "nbformat_minor": 4
}
